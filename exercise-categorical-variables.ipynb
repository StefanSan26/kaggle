{
 "cells": [
  {
   "cell_type": "markdown",
   "id": "8a775814",
   "metadata": {
    "papermill": {
     "duration": 0.009223,
     "end_time": "2023-02-26T23:57:40.703502",
     "exception": false,
     "start_time": "2023-02-26T23:57:40.694279",
     "status": "completed"
    },
    "tags": []
   },
   "source": [
    "**This notebook is an exercise in the [Intermediate Machine Learning](https://www.kaggle.com/learn/intermediate-machine-learning) course.  You can reference the tutorial at [this link](https://www.kaggle.com/alexisbcook/categorical-variables).**\n",
    "\n",
    "---\n"
   ]
  },
  {
   "cell_type": "markdown",
   "id": "675e6fa3",
   "metadata": {
    "papermill": {
     "duration": 0.007871,
     "end_time": "2023-02-26T23:57:40.719693",
     "exception": false,
     "start_time": "2023-02-26T23:57:40.711822",
     "status": "completed"
    },
    "tags": []
   },
   "source": [
    "By encoding **categorical variables**, you'll obtain your best results thus far!\n",
    "\n",
    "# Setup\n",
    "\n",
    "The questions below will give you feedback on your work. Run the following cell to set up the feedback system."
   ]
  },
  {
   "cell_type": "code",
   "execution_count": 1,
   "id": "ca570ae2",
   "metadata": {
    "execution": {
     "iopub.execute_input": "2023-02-26T23:57:40.738204Z",
     "iopub.status.busy": "2023-02-26T23:57:40.737802Z",
     "iopub.status.idle": "2023-02-26T23:57:40.784255Z",
     "shell.execute_reply": "2023-02-26T23:57:40.782594Z"
    },
    "papermill": {
     "duration": 0.058954,
     "end_time": "2023-02-26T23:57:40.786898",
     "exception": false,
     "start_time": "2023-02-26T23:57:40.727944",
     "status": "completed"
    },
    "tags": []
   },
   "outputs": [
    {
     "name": "stdout",
     "output_type": "stream",
     "text": [
      "Setup Complete\n"
     ]
    }
   ],
   "source": [
    "# Set up code checking\n",
    "import os\n",
    "if not os.path.exists(\"../input/train.csv\"):\n",
    "    os.symlink(\"../input/home-data-for-ml-course/train.csv\", \"../input/train.csv\")  \n",
    "    os.symlink(\"../input/home-data-for-ml-course/test.csv\", \"../input/test.csv\") \n",
    "from learntools.core import binder\n",
    "binder.bind(globals())\n",
    "from learntools.ml_intermediate.ex3 import *\n",
    "print(\"Setup Complete\")"
   ]
  },
  {
   "cell_type": "markdown",
   "id": "ec92d9e6",
   "metadata": {
    "papermill": {
     "duration": 0.009581,
     "end_time": "2023-02-26T23:57:40.805454",
     "exception": false,
     "start_time": "2023-02-26T23:57:40.795873",
     "status": "completed"
    },
    "tags": []
   },
   "source": [
    "In this exercise, you will work with data from the [Housing Prices Competition for Kaggle Learn Users](https://www.kaggle.com/c/home-data-for-ml-course). \n",
    "\n",
    "![Ames Housing dataset image](https://i.imgur.com/lTJVG4e.png)\n",
    "\n",
    "Run the next code cell without changes to load the training and validation sets in `X_train`, `X_valid`, `y_train`, and `y_valid`.  The test set is loaded in `X_test`."
   ]
  },
  {
   "cell_type": "code",
   "execution_count": 2,
   "id": "aacf2f07",
   "metadata": {
    "execution": {
     "iopub.execute_input": "2023-02-26T23:57:40.824735Z",
     "iopub.status.busy": "2023-02-26T23:57:40.824083Z",
     "iopub.status.idle": "2023-02-26T23:57:41.903592Z",
     "shell.execute_reply": "2023-02-26T23:57:41.902400Z"
    },
    "papermill": {
     "duration": 1.092023,
     "end_time": "2023-02-26T23:57:41.906091",
     "exception": false,
     "start_time": "2023-02-26T23:57:40.814068",
     "status": "completed"
    },
    "tags": []
   },
   "outputs": [],
   "source": [
    "import pandas as pd\n",
    "from sklearn.model_selection import train_test_split\n",
    "\n",
    "# Read the data\n",
    "X = pd.read_csv('../input/train.csv', index_col='Id') \n",
    "X_test = pd.read_csv('../input/test.csv', index_col='Id')\n",
    "\n",
    "# Remove rows with missing target, separate target from predictors\n",
    "X.dropna(axis=0, subset=['SalePrice'], inplace=True)\n",
    "y = X.SalePrice\n",
    "X.drop(['SalePrice'], axis=1, inplace=True)\n",
    "\n",
    "# To keep things simple, we'll drop columns with missing values\n",
    "cols_with_missing = [col for col in X.columns if X[col].isnull().any()]\n",
    "X.drop(cols_with_missing, axis=1, inplace=True)\n",
    "X_test.drop(cols_with_missing, axis=1, inplace=True)\n",
    "\n",
    "# Break off validation set from training data\n",
    "X_train, X_valid, y_train, y_valid = train_test_split(X, y,\n",
    "                                                      train_size=0.8, test_size=0.2,\n",
    "                                                      random_state=0)"
   ]
  },
  {
   "cell_type": "markdown",
   "id": "f13839c0",
   "metadata": {
    "papermill": {
     "duration": 0.008069,
     "end_time": "2023-02-26T23:57:41.922774",
     "exception": false,
     "start_time": "2023-02-26T23:57:41.914705",
     "status": "completed"
    },
    "tags": []
   },
   "source": [
    "Use the next code cell to print the first five rows of the data."
   ]
  },
  {
   "cell_type": "code",
   "execution_count": 3,
   "id": "b8282a41",
   "metadata": {
    "execution": {
     "iopub.execute_input": "2023-02-26T23:57:41.941244Z",
     "iopub.status.busy": "2023-02-26T23:57:41.940901Z",
     "iopub.status.idle": "2023-02-26T23:57:41.973527Z",
     "shell.execute_reply": "2023-02-26T23:57:41.972188Z"
    },
    "papermill": {
     "duration": 0.044705,
     "end_time": "2023-02-26T23:57:41.975799",
     "exception": false,
     "start_time": "2023-02-26T23:57:41.931094",
     "status": "completed"
    },
    "tags": []
   },
   "outputs": [
    {
     "data": {
      "text/html": [
       "<div>\n",
       "<style scoped>\n",
       "    .dataframe tbody tr th:only-of-type {\n",
       "        vertical-align: middle;\n",
       "    }\n",
       "\n",
       "    .dataframe tbody tr th {\n",
       "        vertical-align: top;\n",
       "    }\n",
       "\n",
       "    .dataframe thead th {\n",
       "        text-align: right;\n",
       "    }\n",
       "</style>\n",
       "<table border=\"1\" class=\"dataframe\">\n",
       "  <thead>\n",
       "    <tr style=\"text-align: right;\">\n",
       "      <th></th>\n",
       "      <th>MSSubClass</th>\n",
       "      <th>MSZoning</th>\n",
       "      <th>LotArea</th>\n",
       "      <th>Street</th>\n",
       "      <th>LotShape</th>\n",
       "      <th>LandContour</th>\n",
       "      <th>Utilities</th>\n",
       "      <th>LotConfig</th>\n",
       "      <th>LandSlope</th>\n",
       "      <th>Neighborhood</th>\n",
       "      <th>...</th>\n",
       "      <th>OpenPorchSF</th>\n",
       "      <th>EnclosedPorch</th>\n",
       "      <th>3SsnPorch</th>\n",
       "      <th>ScreenPorch</th>\n",
       "      <th>PoolArea</th>\n",
       "      <th>MiscVal</th>\n",
       "      <th>MoSold</th>\n",
       "      <th>YrSold</th>\n",
       "      <th>SaleType</th>\n",
       "      <th>SaleCondition</th>\n",
       "    </tr>\n",
       "    <tr>\n",
       "      <th>Id</th>\n",
       "      <th></th>\n",
       "      <th></th>\n",
       "      <th></th>\n",
       "      <th></th>\n",
       "      <th></th>\n",
       "      <th></th>\n",
       "      <th></th>\n",
       "      <th></th>\n",
       "      <th></th>\n",
       "      <th></th>\n",
       "      <th></th>\n",
       "      <th></th>\n",
       "      <th></th>\n",
       "      <th></th>\n",
       "      <th></th>\n",
       "      <th></th>\n",
       "      <th></th>\n",
       "      <th></th>\n",
       "      <th></th>\n",
       "      <th></th>\n",
       "      <th></th>\n",
       "    </tr>\n",
       "  </thead>\n",
       "  <tbody>\n",
       "    <tr>\n",
       "      <th>619</th>\n",
       "      <td>20</td>\n",
       "      <td>RL</td>\n",
       "      <td>11694</td>\n",
       "      <td>Pave</td>\n",
       "      <td>Reg</td>\n",
       "      <td>Lvl</td>\n",
       "      <td>AllPub</td>\n",
       "      <td>Inside</td>\n",
       "      <td>Gtl</td>\n",
       "      <td>NridgHt</td>\n",
       "      <td>...</td>\n",
       "      <td>108</td>\n",
       "      <td>0</td>\n",
       "      <td>0</td>\n",
       "      <td>260</td>\n",
       "      <td>0</td>\n",
       "      <td>0</td>\n",
       "      <td>7</td>\n",
       "      <td>2007</td>\n",
       "      <td>New</td>\n",
       "      <td>Partial</td>\n",
       "    </tr>\n",
       "    <tr>\n",
       "      <th>871</th>\n",
       "      <td>20</td>\n",
       "      <td>RL</td>\n",
       "      <td>6600</td>\n",
       "      <td>Pave</td>\n",
       "      <td>Reg</td>\n",
       "      <td>Lvl</td>\n",
       "      <td>AllPub</td>\n",
       "      <td>Inside</td>\n",
       "      <td>Gtl</td>\n",
       "      <td>NAmes</td>\n",
       "      <td>...</td>\n",
       "      <td>0</td>\n",
       "      <td>0</td>\n",
       "      <td>0</td>\n",
       "      <td>0</td>\n",
       "      <td>0</td>\n",
       "      <td>0</td>\n",
       "      <td>8</td>\n",
       "      <td>2009</td>\n",
       "      <td>WD</td>\n",
       "      <td>Normal</td>\n",
       "    </tr>\n",
       "    <tr>\n",
       "      <th>93</th>\n",
       "      <td>30</td>\n",
       "      <td>RL</td>\n",
       "      <td>13360</td>\n",
       "      <td>Pave</td>\n",
       "      <td>IR1</td>\n",
       "      <td>HLS</td>\n",
       "      <td>AllPub</td>\n",
       "      <td>Inside</td>\n",
       "      <td>Gtl</td>\n",
       "      <td>Crawfor</td>\n",
       "      <td>...</td>\n",
       "      <td>0</td>\n",
       "      <td>44</td>\n",
       "      <td>0</td>\n",
       "      <td>0</td>\n",
       "      <td>0</td>\n",
       "      <td>0</td>\n",
       "      <td>8</td>\n",
       "      <td>2009</td>\n",
       "      <td>WD</td>\n",
       "      <td>Normal</td>\n",
       "    </tr>\n",
       "    <tr>\n",
       "      <th>818</th>\n",
       "      <td>20</td>\n",
       "      <td>RL</td>\n",
       "      <td>13265</td>\n",
       "      <td>Pave</td>\n",
       "      <td>IR1</td>\n",
       "      <td>Lvl</td>\n",
       "      <td>AllPub</td>\n",
       "      <td>CulDSac</td>\n",
       "      <td>Gtl</td>\n",
       "      <td>Mitchel</td>\n",
       "      <td>...</td>\n",
       "      <td>59</td>\n",
       "      <td>0</td>\n",
       "      <td>0</td>\n",
       "      <td>0</td>\n",
       "      <td>0</td>\n",
       "      <td>0</td>\n",
       "      <td>7</td>\n",
       "      <td>2008</td>\n",
       "      <td>WD</td>\n",
       "      <td>Normal</td>\n",
       "    </tr>\n",
       "    <tr>\n",
       "      <th>303</th>\n",
       "      <td>20</td>\n",
       "      <td>RL</td>\n",
       "      <td>13704</td>\n",
       "      <td>Pave</td>\n",
       "      <td>IR1</td>\n",
       "      <td>Lvl</td>\n",
       "      <td>AllPub</td>\n",
       "      <td>Corner</td>\n",
       "      <td>Gtl</td>\n",
       "      <td>CollgCr</td>\n",
       "      <td>...</td>\n",
       "      <td>81</td>\n",
       "      <td>0</td>\n",
       "      <td>0</td>\n",
       "      <td>0</td>\n",
       "      <td>0</td>\n",
       "      <td>0</td>\n",
       "      <td>1</td>\n",
       "      <td>2006</td>\n",
       "      <td>WD</td>\n",
       "      <td>Normal</td>\n",
       "    </tr>\n",
       "  </tbody>\n",
       "</table>\n",
       "<p>5 rows × 60 columns</p>\n",
       "</div>"
      ],
      "text/plain": [
       "     MSSubClass MSZoning  LotArea Street LotShape LandContour Utilities  \\\n",
       "Id                                                                        \n",
       "619          20       RL    11694   Pave      Reg         Lvl    AllPub   \n",
       "871          20       RL     6600   Pave      Reg         Lvl    AllPub   \n",
       "93           30       RL    13360   Pave      IR1         HLS    AllPub   \n",
       "818          20       RL    13265   Pave      IR1         Lvl    AllPub   \n",
       "303          20       RL    13704   Pave      IR1         Lvl    AllPub   \n",
       "\n",
       "    LotConfig LandSlope Neighborhood  ... OpenPorchSF EnclosedPorch 3SsnPorch  \\\n",
       "Id                                    ...                                       \n",
       "619    Inside       Gtl      NridgHt  ...         108             0         0   \n",
       "871    Inside       Gtl        NAmes  ...           0             0         0   \n",
       "93     Inside       Gtl      Crawfor  ...           0            44         0   \n",
       "818   CulDSac       Gtl      Mitchel  ...          59             0         0   \n",
       "303    Corner       Gtl      CollgCr  ...          81             0         0   \n",
       "\n",
       "    ScreenPorch  PoolArea  MiscVal  MoSold  YrSold SaleType SaleCondition  \n",
       "Id                                                                         \n",
       "619         260         0        0       7    2007      New       Partial  \n",
       "871           0         0        0       8    2009       WD        Normal  \n",
       "93            0         0        0       8    2009       WD        Normal  \n",
       "818           0         0        0       7    2008       WD        Normal  \n",
       "303           0         0        0       1    2006       WD        Normal  \n",
       "\n",
       "[5 rows x 60 columns]"
      ]
     },
     "execution_count": 3,
     "metadata": {},
     "output_type": "execute_result"
    }
   ],
   "source": [
    "X_train.head()"
   ]
  },
  {
   "cell_type": "markdown",
   "id": "fbf7361c",
   "metadata": {
    "papermill": {
     "duration": 0.008574,
     "end_time": "2023-02-26T23:57:41.993437",
     "exception": false,
     "start_time": "2023-02-26T23:57:41.984863",
     "status": "completed"
    },
    "tags": []
   },
   "source": [
    "Notice that the dataset contains both numerical and categorical variables.  You'll need to encode the categorical data before training a model.\n",
    "\n",
    "To compare different models, you'll use the same `score_dataset()` function from the tutorial.  This function reports the [mean absolute error](https://en.wikipedia.org/wiki/Mean_absolute_error) (MAE) from a random forest model."
   ]
  },
  {
   "cell_type": "code",
   "execution_count": 4,
   "id": "d01a017b",
   "metadata": {
    "execution": {
     "iopub.execute_input": "2023-02-26T23:57:42.012644Z",
     "iopub.status.busy": "2023-02-26T23:57:42.012213Z",
     "iopub.status.idle": "2023-02-26T23:57:42.311052Z",
     "shell.execute_reply": "2023-02-26T23:57:42.309944Z"
    },
    "papermill": {
     "duration": 0.311452,
     "end_time": "2023-02-26T23:57:42.313545",
     "exception": false,
     "start_time": "2023-02-26T23:57:42.002093",
     "status": "completed"
    },
    "tags": []
   },
   "outputs": [],
   "source": [
    "from sklearn.ensemble import RandomForestRegressor\n",
    "from sklearn.metrics import mean_absolute_error\n",
    "\n",
    "# function for comparing different approaches\n",
    "def score_dataset(X_train, X_valid, y_train, y_valid):\n",
    "    model = RandomForestRegressor(n_estimators=100, random_state=0)\n",
    "    model.fit(X_train, y_train)\n",
    "    preds = model.predict(X_valid)\n",
    "    return mean_absolute_error(y_valid, preds)"
   ]
  },
  {
   "cell_type": "markdown",
   "id": "b492c70c",
   "metadata": {
    "papermill": {
     "duration": 0.00848,
     "end_time": "2023-02-26T23:57:42.331088",
     "exception": false,
     "start_time": "2023-02-26T23:57:42.322608",
     "status": "completed"
    },
    "tags": []
   },
   "source": [
    "# Step 1: Drop columns with categorical data\n",
    "\n",
    "You'll get started with the most straightforward approach.  Use the code cell below to preprocess the data in `X_train` and `X_valid` to remove columns with categorical data.  Set the preprocessed DataFrames to `drop_X_train` and `drop_X_valid`, respectively.  "
   ]
  },
  {
   "cell_type": "code",
   "execution_count": 5,
   "id": "ae55d097",
   "metadata": {
    "execution": {
     "iopub.execute_input": "2023-02-26T23:57:42.350093Z",
     "iopub.status.busy": "2023-02-26T23:57:42.349734Z",
     "iopub.status.idle": "2023-02-26T23:57:42.363300Z",
     "shell.execute_reply": "2023-02-26T23:57:42.362390Z"
    },
    "papermill": {
     "duration": 0.025724,
     "end_time": "2023-02-26T23:57:42.365429",
     "exception": false,
     "start_time": "2023-02-26T23:57:42.339705",
     "status": "completed"
    },
    "tags": []
   },
   "outputs": [
    {
     "data": {
      "application/javascript": [
       "parent.postMessage({\"jupyterEvent\": \"custom.exercise_interaction\", \"data\": {\"outcomeType\": 1, \"valueTowardsCompletion\": 0.5, \"interactionType\": 1, \"questionType\": 2, \"questionId\": \"1_Drop\", \"learnToolsVersion\": \"0.3.4\", \"failureMessage\": \"\", \"exceptionClass\": \"\", \"trace\": \"\"}}, \"*\")"
      ],
      "text/plain": [
       "<IPython.core.display.Javascript object>"
      ]
     },
     "metadata": {},
     "output_type": "display_data"
    },
    {
     "data": {
      "text/markdown": [
       "<span style=\"color:#33cc33\">Correct</span>"
      ],
      "text/plain": [
       "Correct"
      ]
     },
     "metadata": {},
     "output_type": "display_data"
    }
   ],
   "source": [
    "# Fill in the lines below: drop columns in training and validation data\n",
    "drop_X_train = X_train.select_dtypes(exclude=['object'])\n",
    "drop_X_valid = X_valid.select_dtypes(exclude=['object'])\n",
    "\n",
    "# Check your answers\n",
    "step_1.check()"
   ]
  },
  {
   "cell_type": "code",
   "execution_count": 6,
   "id": "4049b78a",
   "metadata": {
    "execution": {
     "iopub.execute_input": "2023-02-26T23:57:42.385184Z",
     "iopub.status.busy": "2023-02-26T23:57:42.384833Z",
     "iopub.status.idle": "2023-02-26T23:57:42.388644Z",
     "shell.execute_reply": "2023-02-26T23:57:42.387508Z"
    },
    "papermill": {
     "duration": 0.015774,
     "end_time": "2023-02-26T23:57:42.390401",
     "exception": false,
     "start_time": "2023-02-26T23:57:42.374627",
     "status": "completed"
    },
    "tags": []
   },
   "outputs": [],
   "source": [
    "# Lines below will give you a hint or solution code\n",
    "# step_1.hint()\n",
    "# step_1.solution()"
   ]
  },
  {
   "cell_type": "markdown",
   "id": "c0ebfb1e",
   "metadata": {
    "papermill": {
     "duration": 0.008655,
     "end_time": "2023-02-26T23:57:42.407653",
     "exception": false,
     "start_time": "2023-02-26T23:57:42.398998",
     "status": "completed"
    },
    "tags": []
   },
   "source": [
    "Run the next code cell to get the MAE for this approach."
   ]
  },
  {
   "cell_type": "code",
   "execution_count": 7,
   "id": "b6dae867",
   "metadata": {
    "execution": {
     "iopub.execute_input": "2023-02-26T23:57:42.427689Z",
     "iopub.status.busy": "2023-02-26T23:57:42.427305Z",
     "iopub.status.idle": "2023-02-26T23:57:43.341205Z",
     "shell.execute_reply": "2023-02-26T23:57:43.339905Z"
    },
    "papermill": {
     "duration": 0.927185,
     "end_time": "2023-02-26T23:57:43.344123",
     "exception": false,
     "start_time": "2023-02-26T23:57:42.416938",
     "status": "completed"
    },
    "tags": []
   },
   "outputs": [
    {
     "name": "stdout",
     "output_type": "stream",
     "text": [
      "MAE from Approach 1 (Drop categorical variables):\n",
      "17837.82570776256\n"
     ]
    }
   ],
   "source": [
    "print(\"MAE from Approach 1 (Drop categorical variables):\")\n",
    "print(score_dataset(drop_X_train, drop_X_valid, y_train, y_valid))"
   ]
  },
  {
   "cell_type": "markdown",
   "id": "9b2872a3",
   "metadata": {
    "papermill": {
     "duration": 0.00938,
     "end_time": "2023-02-26T23:57:43.363353",
     "exception": false,
     "start_time": "2023-02-26T23:57:43.353973",
     "status": "completed"
    },
    "tags": []
   },
   "source": [
    "Before jumping into ordinal encoding, we'll investigate the dataset.  Specifically, we'll look at the `'Condition2'` column.  The code cell below prints the unique entries in both the training and validation sets."
   ]
  },
  {
   "cell_type": "code",
   "execution_count": 8,
   "id": "e516572b",
   "metadata": {
    "execution": {
     "iopub.execute_input": "2023-02-26T23:57:43.384216Z",
     "iopub.status.busy": "2023-02-26T23:57:43.383864Z",
     "iopub.status.idle": "2023-02-26T23:57:43.390545Z",
     "shell.execute_reply": "2023-02-26T23:57:43.389278Z"
    },
    "papermill": {
     "duration": 0.019765,
     "end_time": "2023-02-26T23:57:43.392613",
     "exception": false,
     "start_time": "2023-02-26T23:57:43.372848",
     "status": "completed"
    },
    "tags": []
   },
   "outputs": [
    {
     "name": "stdout",
     "output_type": "stream",
     "text": [
      "Unique values in 'Condition2' column in training data: ['Norm' 'PosA' 'Feedr' 'PosN' 'Artery' 'RRAe']\n",
      "\n",
      "Unique values in 'Condition2' column in validation data: ['Norm' 'RRAn' 'RRNn' 'Artery' 'Feedr' 'PosN']\n"
     ]
    }
   ],
   "source": [
    "print(\"Unique values in 'Condition2' column in training data:\", X_train['Condition2'].unique())\n",
    "print(\"\\nUnique values in 'Condition2' column in validation data:\", X_valid['Condition2'].unique())"
   ]
  },
  {
   "cell_type": "markdown",
   "id": "c6c44166",
   "metadata": {
    "papermill": {
     "duration": 0.009252,
     "end_time": "2023-02-26T23:57:43.411463",
     "exception": false,
     "start_time": "2023-02-26T23:57:43.402211",
     "status": "completed"
    },
    "tags": []
   },
   "source": [
    "# Step 2: Ordinal encoding\n",
    "\n",
    "### Part A\n",
    "\n",
    "If you now write code to: \n",
    "- fit an ordinal encoder to the training data, and then \n",
    "- use it to transform both the training and validation data, \n",
    "\n",
    "you'll get an error.  Can you see why this is the case?  (_You'll need  to use the above output to answer this question._)"
   ]
  },
  {
   "cell_type": "code",
   "execution_count": 9,
   "id": "3aeeaab8",
   "metadata": {
    "execution": {
     "iopub.execute_input": "2023-02-26T23:57:43.432324Z",
     "iopub.status.busy": "2023-02-26T23:57:43.431963Z",
     "iopub.status.idle": "2023-02-26T23:57:43.439865Z",
     "shell.execute_reply": "2023-02-26T23:57:43.438752Z"
    },
    "papermill": {
     "duration": 0.020786,
     "end_time": "2023-02-26T23:57:43.441612",
     "exception": false,
     "start_time": "2023-02-26T23:57:43.420826",
     "status": "completed"
    },
    "tags": []
   },
   "outputs": [
    {
     "data": {
      "application/javascript": [
       "parent.postMessage({\"jupyterEvent\": \"custom.exercise_interaction\", \"data\": {\"outcomeType\": 1, \"valueTowardsCompletion\": 0.5, \"interactionType\": 1, \"questionType\": 4, \"questionId\": \"2.1_LabelA\", \"learnToolsVersion\": \"0.3.4\", \"failureMessage\": \"\", \"exceptionClass\": \"\", \"trace\": \"\"}}, \"*\")"
      ],
      "text/plain": [
       "<IPython.core.display.Javascript object>"
      ]
     },
     "metadata": {},
     "output_type": "display_data"
    },
    {
     "data": {
      "text/markdown": [
       "<span style=\"color:#33cc33\">Correct:</span> \n",
       "\n",
       "Fitting an ordinal encoder to a column in the training data creates a corresponding integer-valued label for each unique value **that appears in the training data**. In the case that the validation data contains values that don't also appear in the training data, the encoder will throw an error, because these values won't have an integer assigned to them.  Notice that the `'Condition2'` column in the validation data contains the values `'RRAn'` and `'RRNn'`, but these don't appear in the training data -- thus, if we try to use an ordinal encoder with scikit-learn, the code will throw an error."
      ],
      "text/plain": [
       "Correct: \n",
       "\n",
       "Fitting an ordinal encoder to a column in the training data creates a corresponding integer-valued label for each unique value **that appears in the training data**. In the case that the validation data contains values that don't also appear in the training data, the encoder will throw an error, because these values won't have an integer assigned to them.  Notice that the `'Condition2'` column in the validation data contains the values `'RRAn'` and `'RRNn'`, but these don't appear in the training data -- thus, if we try to use an ordinal encoder with scikit-learn, the code will throw an error."
      ]
     },
     "metadata": {},
     "output_type": "display_data"
    }
   ],
   "source": [
    "# Check your answer (Run this code cell to receive credit!)\n",
    "step_2.a.check()"
   ]
  },
  {
   "cell_type": "code",
   "execution_count": 10,
   "id": "72d28635",
   "metadata": {
    "execution": {
     "iopub.execute_input": "2023-02-26T23:57:43.462691Z",
     "iopub.status.busy": "2023-02-26T23:57:43.462334Z",
     "iopub.status.idle": "2023-02-26T23:57:43.468152Z",
     "shell.execute_reply": "2023-02-26T23:57:43.467353Z"
    },
    "papermill": {
     "duration": 0.019108,
     "end_time": "2023-02-26T23:57:43.470541",
     "exception": false,
     "start_time": "2023-02-26T23:57:43.451433",
     "status": "completed"
    },
    "tags": []
   },
   "outputs": [],
   "source": [
    "#step_2.a.hint()"
   ]
  },
  {
   "cell_type": "markdown",
   "id": "6177fbce",
   "metadata": {
    "papermill": {
     "duration": 0.010048,
     "end_time": "2023-02-26T23:57:43.490571",
     "exception": false,
     "start_time": "2023-02-26T23:57:43.480523",
     "status": "completed"
    },
    "tags": []
   },
   "source": [
    "This is a common problem that you'll encounter with real-world data, and there are many approaches to fixing this issue.  For instance, you can write a custom ordinal encoder to deal with new categories.  The simplest approach, however, is to drop the problematic categorical columns.  \n",
    "\n",
    "Run the code cell below to save the problematic columns to a Python list `bad_label_cols`.  Likewise, columns that can be safely ordinal encoded are stored in `good_label_cols`."
   ]
  },
  {
   "cell_type": "code",
   "execution_count": 11,
   "id": "bdbc3d17",
   "metadata": {
    "execution": {
     "iopub.execute_input": "2023-02-26T23:57:43.512007Z",
     "iopub.status.busy": "2023-02-26T23:57:43.510963Z",
     "iopub.status.idle": "2023-02-26T23:57:43.524917Z",
     "shell.execute_reply": "2023-02-26T23:57:43.523951Z"
    },
    "papermill": {
     "duration": 0.026781,
     "end_time": "2023-02-26T23:57:43.527026",
     "exception": false,
     "start_time": "2023-02-26T23:57:43.500245",
     "status": "completed"
    },
    "tags": []
   },
   "outputs": [
    {
     "name": "stdout",
     "output_type": "stream",
     "text": [
      "Categorical columns that will be ordinal encoded: ['MSZoning', 'Street', 'LotShape', 'LandContour', 'Utilities', 'LotConfig', 'LandSlope', 'Neighborhood', 'Condition1', 'BldgType', 'HouseStyle', 'RoofStyle', 'Exterior1st', 'Exterior2nd', 'ExterQual', 'ExterCond', 'Foundation', 'Heating', 'HeatingQC', 'CentralAir', 'KitchenQual', 'PavedDrive', 'SaleType', 'SaleCondition']\n",
      "\n",
      "Categorical columns that will be dropped from the dataset: ['Functional', 'Condition2', 'RoofMatl']\n"
     ]
    }
   ],
   "source": [
    "# Categorical columns in the training data\n",
    "object_cols = [col for col in X_train.columns if X_train[col].dtype == \"object\"]\n",
    "\n",
    "# Columns that can be safely ordinal encoded\n",
    "good_label_cols = [col for col in object_cols if \n",
    "                   set(X_valid[col]).issubset(set(X_train[col]))]\n",
    "        \n",
    "# Problematic columns that will be dropped from the dataset\n",
    "bad_label_cols = list(set(object_cols)-set(good_label_cols))\n",
    "        \n",
    "print('Categorical columns that will be ordinal encoded:', good_label_cols)\n",
    "print('\\nCategorical columns that will be dropped from the dataset:', bad_label_cols)"
   ]
  },
  {
   "cell_type": "markdown",
   "id": "68b8a0e5",
   "metadata": {
    "papermill": {
     "duration": 0.009543,
     "end_time": "2023-02-26T23:57:43.546320",
     "exception": false,
     "start_time": "2023-02-26T23:57:43.536777",
     "status": "completed"
    },
    "tags": []
   },
   "source": [
    "### Part B\n",
    "\n",
    "Use the next code cell to ordinal encode the data in `X_train` and `X_valid`.  Set the preprocessed DataFrames to `label_X_train` and `label_X_valid`, respectively.  \n",
    "- We have provided code below to drop the categorical columns in `bad_label_cols` from the dataset. \n",
    "- You should ordinal encode the categorical columns in `good_label_cols`.  "
   ]
  },
  {
   "cell_type": "code",
   "execution_count": 12,
   "id": "6ff5b29d",
   "metadata": {
    "execution": {
     "iopub.execute_input": "2023-02-26T23:57:43.567548Z",
     "iopub.status.busy": "2023-02-26T23:57:43.567174Z",
     "iopub.status.idle": "2023-02-26T23:57:43.611425Z",
     "shell.execute_reply": "2023-02-26T23:57:43.610402Z"
    },
    "papermill": {
     "duration": 0.057424,
     "end_time": "2023-02-26T23:57:43.613542",
     "exception": false,
     "start_time": "2023-02-26T23:57:43.556118",
     "status": "completed"
    },
    "tags": []
   },
   "outputs": [
    {
     "data": {
      "application/javascript": [
       "parent.postMessage({\"jupyterEvent\": \"custom.exercise_interaction\", \"data\": {\"outcomeType\": 1, \"valueTowardsCompletion\": 0.5, \"interactionType\": 1, \"questionType\": 2, \"questionId\": \"2.2_LabelB\", \"learnToolsVersion\": \"0.3.4\", \"failureMessage\": \"\", \"exceptionClass\": \"\", \"trace\": \"\"}}, \"*\")"
      ],
      "text/plain": [
       "<IPython.core.display.Javascript object>"
      ]
     },
     "metadata": {},
     "output_type": "display_data"
    },
    {
     "data": {
      "text/markdown": [
       "<span style=\"color:#33cc33\">Correct</span>"
      ],
      "text/plain": [
       "Correct"
      ]
     },
     "metadata": {},
     "output_type": "display_data"
    }
   ],
   "source": [
    "from sklearn.preprocessing import OrdinalEncoder\n",
    "\n",
    "# Drop categorical columns that will not be encoded\n",
    "label_X_train = X_train.drop(bad_label_cols, axis=1)\n",
    "label_X_valid = X_valid.drop(bad_label_cols, axis=1)\n",
    "\n",
    "# Apply ordinal encoder \n",
    "ordinal_encoder=OrdinalEncoder()\n",
    "label_X_train[good_label_cols] = ordinal_encoder.fit_transform(X_train[good_label_cols])\n",
    "label_X_valid[good_label_cols] = ordinal_encoder.transform(X_valid[good_label_cols])\n",
    "\n",
    "    \n",
    "# Check your answer\n",
    "step_2.b.check()"
   ]
  },
  {
   "cell_type": "code",
   "execution_count": 13,
   "id": "5e13432b",
   "metadata": {
    "execution": {
     "iopub.execute_input": "2023-02-26T23:57:43.635327Z",
     "iopub.status.busy": "2023-02-26T23:57:43.634407Z",
     "iopub.status.idle": "2023-02-26T23:57:43.638845Z",
     "shell.execute_reply": "2023-02-26T23:57:43.637956Z"
    },
    "papermill": {
     "duration": 0.01755,
     "end_time": "2023-02-26T23:57:43.640741",
     "exception": false,
     "start_time": "2023-02-26T23:57:43.623191",
     "status": "completed"
    },
    "tags": []
   },
   "outputs": [],
   "source": [
    "# Lines below will give you a hint or solution code\n",
    "# step_2.b.hint()\n",
    "#step_2.b.solution()"
   ]
  },
  {
   "cell_type": "markdown",
   "id": "fdb7b9fa",
   "metadata": {
    "papermill": {
     "duration": 0.009524,
     "end_time": "2023-02-26T23:57:43.660091",
     "exception": false,
     "start_time": "2023-02-26T23:57:43.650567",
     "status": "completed"
    },
    "tags": []
   },
   "source": [
    "Run the next code cell to get the MAE for this approach."
   ]
  },
  {
   "cell_type": "code",
   "execution_count": 14,
   "id": "558df119",
   "metadata": {
    "execution": {
     "iopub.execute_input": "2023-02-26T23:57:43.682192Z",
     "iopub.status.busy": "2023-02-26T23:57:43.681246Z",
     "iopub.status.idle": "2023-02-26T23:57:44.840593Z",
     "shell.execute_reply": "2023-02-26T23:57:44.839598Z"
    },
    "papermill": {
     "duration": 1.173454,
     "end_time": "2023-02-26T23:57:44.843297",
     "exception": false,
     "start_time": "2023-02-26T23:57:43.669843",
     "status": "completed"
    },
    "tags": []
   },
   "outputs": [
    {
     "name": "stdout",
     "output_type": "stream",
     "text": [
      "MAE from Approach 2 (Ordinal Encoding):\n",
      "17098.01649543379\n"
     ]
    }
   ],
   "source": [
    "print(\"MAE from Approach 2 (Ordinal Encoding):\") \n",
    "print(score_dataset(label_X_train, label_X_valid, y_train, y_valid))"
   ]
  },
  {
   "cell_type": "markdown",
   "id": "62edf63d",
   "metadata": {
    "papermill": {
     "duration": 0.009527,
     "end_time": "2023-02-26T23:57:44.863736",
     "exception": false,
     "start_time": "2023-02-26T23:57:44.854209",
     "status": "completed"
    },
    "tags": []
   },
   "source": [
    "So far, you've tried two different approaches to dealing with categorical variables.  And, you've seen that encoding categorical data yields better results than removing columns from the dataset.\n",
    "\n",
    "Soon, you'll try one-hot encoding.  Before then, there's one additional topic we need to cover.  Begin by running the next code cell without changes.  "
   ]
  },
  {
   "cell_type": "code",
   "execution_count": 15,
   "id": "4d788ac1",
   "metadata": {
    "execution": {
     "iopub.execute_input": "2023-02-26T23:57:44.885076Z",
     "iopub.status.busy": "2023-02-26T23:57:44.884734Z",
     "iopub.status.idle": "2023-02-26T23:57:44.898588Z",
     "shell.execute_reply": "2023-02-26T23:57:44.897557Z"
    },
    "papermill": {
     "duration": 0.027108,
     "end_time": "2023-02-26T23:57:44.900766",
     "exception": false,
     "start_time": "2023-02-26T23:57:44.873658",
     "status": "completed"
    },
    "tags": []
   },
   "outputs": [
    {
     "data": {
      "text/plain": [
       "[('Street', 2),\n",
       " ('Utilities', 2),\n",
       " ('CentralAir', 2),\n",
       " ('LandSlope', 3),\n",
       " ('PavedDrive', 3),\n",
       " ('LotShape', 4),\n",
       " ('LandContour', 4),\n",
       " ('ExterQual', 4),\n",
       " ('KitchenQual', 4),\n",
       " ('MSZoning', 5),\n",
       " ('LotConfig', 5),\n",
       " ('BldgType', 5),\n",
       " ('ExterCond', 5),\n",
       " ('HeatingQC', 5),\n",
       " ('Condition2', 6),\n",
       " ('RoofStyle', 6),\n",
       " ('Foundation', 6),\n",
       " ('Heating', 6),\n",
       " ('Functional', 6),\n",
       " ('SaleCondition', 6),\n",
       " ('RoofMatl', 7),\n",
       " ('HouseStyle', 8),\n",
       " ('Condition1', 9),\n",
       " ('SaleType', 9),\n",
       " ('Exterior1st', 15),\n",
       " ('Exterior2nd', 16),\n",
       " ('Neighborhood', 25)]"
      ]
     },
     "execution_count": 15,
     "metadata": {},
     "output_type": "execute_result"
    }
   ],
   "source": [
    "# Get number of unique entries in each column with categorical data\n",
    "object_nunique = list(map(lambda col: X_train[col].nunique(), object_cols))\n",
    "d = dict(zip(object_cols, object_nunique))\n",
    "\n",
    "# Print number of unique entries by column, in ascending order\n",
    "sorted(d.items(), key=lambda x: x[1])"
   ]
  },
  {
   "cell_type": "markdown",
   "id": "ea4275c8",
   "metadata": {
    "papermill": {
     "duration": 0.009545,
     "end_time": "2023-02-26T23:57:44.920523",
     "exception": false,
     "start_time": "2023-02-26T23:57:44.910978",
     "status": "completed"
    },
    "tags": []
   },
   "source": [
    "# Step 3: Investigating cardinality\n",
    "\n",
    "### Part A\n",
    "\n",
    "The output above shows, for each column with categorical data, the number of unique values in the column.  For instance, the `'Street'` column in the training data has two unique values: `'Grvl'` and `'Pave'`, corresponding to a gravel road and a paved road, respectively.\n",
    "\n",
    "We refer to the number of unique entries of a categorical variable as the **cardinality** of that categorical variable.  For instance, the `'Street'` variable has cardinality 2.\n",
    "\n",
    "Use the output above to answer the questions below."
   ]
  },
  {
   "cell_type": "code",
   "execution_count": 16,
   "id": "3432c18c",
   "metadata": {
    "execution": {
     "iopub.execute_input": "2023-02-26T23:57:44.941725Z",
     "iopub.status.busy": "2023-02-26T23:57:44.941390Z",
     "iopub.status.idle": "2023-02-26T23:57:44.950449Z",
     "shell.execute_reply": "2023-02-26T23:57:44.949353Z"
    },
    "papermill": {
     "duration": 0.022146,
     "end_time": "2023-02-26T23:57:44.952550",
     "exception": false,
     "start_time": "2023-02-26T23:57:44.930404",
     "status": "completed"
    },
    "tags": []
   },
   "outputs": [
    {
     "data": {
      "application/javascript": [
       "parent.postMessage({\"jupyterEvent\": \"custom.exercise_interaction\", \"data\": {\"outcomeType\": 1, \"valueTowardsCompletion\": 0.5, \"interactionType\": 1, \"questionType\": 1, \"questionId\": \"3.1_CardinalityA\", \"learnToolsVersion\": \"0.3.4\", \"failureMessage\": \"\", \"exceptionClass\": \"\", \"trace\": \"\"}}, \"*\")"
      ],
      "text/plain": [
       "<IPython.core.display.Javascript object>"
      ]
     },
     "metadata": {},
     "output_type": "display_data"
    },
    {
     "data": {
      "text/markdown": [
       "<span style=\"color:#33cc33\">Correct</span>"
      ],
      "text/plain": [
       "Correct"
      ]
     },
     "metadata": {},
     "output_type": "display_data"
    }
   ],
   "source": [
    "# Fill in the line below: How many categorical variables in the training data\n",
    "# have cardinality greater than 10?\n",
    "high_cardinality_numcols = sum(1 for value in object_nunique if value > 10)\n",
    "\n",
    "\n",
    "# Fill in the line below: How many columns are needed to one-hot encode the \n",
    "# 'Neighborhood' variable in the training data?\n",
    "num_cols_neighborhood = d['Neighborhood']\n",
    "\n",
    "# Check your answers\n",
    "step_3.a.check()"
   ]
  },
  {
   "cell_type": "code",
   "execution_count": 17,
   "id": "65af0171",
   "metadata": {
    "execution": {
     "iopub.execute_input": "2023-02-26T23:57:44.974719Z",
     "iopub.status.busy": "2023-02-26T23:57:44.974344Z",
     "iopub.status.idle": "2023-02-26T23:57:44.978431Z",
     "shell.execute_reply": "2023-02-26T23:57:44.977425Z"
    },
    "papermill": {
     "duration": 0.017267,
     "end_time": "2023-02-26T23:57:44.980215",
     "exception": false,
     "start_time": "2023-02-26T23:57:44.962948",
     "status": "completed"
    },
    "tags": []
   },
   "outputs": [],
   "source": [
    "# Lines below will give you a hint or solution code\n",
    "# step_3.a.hint()\n",
    "# step_3.a.solution()"
   ]
  },
  {
   "cell_type": "markdown",
   "id": "e5ad71e8",
   "metadata": {
    "papermill": {
     "duration": 0.00965,
     "end_time": "2023-02-26T23:57:44.999806",
     "exception": false,
     "start_time": "2023-02-26T23:57:44.990156",
     "status": "completed"
    },
    "tags": []
   },
   "source": [
    "### Part B\n",
    "\n",
    "For large datasets with many rows, one-hot encoding can greatly expand the size of the dataset.  For this reason, we typically will only one-hot encode columns with relatively low cardinality.  Then, high cardinality columns can either be dropped from the dataset, or we can use ordinal encoding.\n",
    "\n",
    "As an example, consider a dataset with 10,000 rows, and containing one categorical column with 100 unique entries.  \n",
    "- If this column is replaced with the corresponding one-hot encoding, how many entries are added to the dataset?  \n",
    "- If we instead replace the column with the ordinal encoding, how many entries are added?  \n",
    "\n",
    "Use your answers to fill in the lines below."
   ]
  },
  {
   "cell_type": "code",
   "execution_count": 18,
   "id": "ef009bc8",
   "metadata": {
    "execution": {
     "iopub.execute_input": "2023-02-26T23:57:45.021561Z",
     "iopub.status.busy": "2023-02-26T23:57:45.021223Z",
     "iopub.status.idle": "2023-02-26T23:57:45.029529Z",
     "shell.execute_reply": "2023-02-26T23:57:45.028509Z"
    },
    "papermill": {
     "duration": 0.021549,
     "end_time": "2023-02-26T23:57:45.031347",
     "exception": false,
     "start_time": "2023-02-26T23:57:45.009798",
     "status": "completed"
    },
    "tags": []
   },
   "outputs": [
    {
     "data": {
      "application/javascript": [
       "parent.postMessage({\"jupyterEvent\": \"custom.exercise_interaction\", \"data\": {\"outcomeType\": 1, \"valueTowardsCompletion\": 0.5, \"interactionType\": 1, \"questionType\": 1, \"questionId\": \"3.2_CardinalityB\", \"learnToolsVersion\": \"0.3.4\", \"failureMessage\": \"\", \"exceptionClass\": \"\", \"trace\": \"\"}}, \"*\")"
      ],
      "text/plain": [
       "<IPython.core.display.Javascript object>"
      ]
     },
     "metadata": {},
     "output_type": "display_data"
    },
    {
     "data": {
      "text/markdown": [
       "<span style=\"color:#33cc33\">Correct</span>"
      ],
      "text/plain": [
       "Correct"
      ]
     },
     "metadata": {},
     "output_type": "display_data"
    }
   ],
   "source": [
    "# Fill in the line below: How many entries are added to the dataset by \n",
    "# replacing the column with a one-hot encoding?\n",
    "OH_entries_added = 100*10000-10000\n",
    "\n",
    "# Fill in the line below: How many entries are added to the dataset by\n",
    "# replacing the column with an ordinal encoding?\n",
    "label_entries_added = 0\n",
    "\n",
    "# Check your answers\n",
    "step_3.b.check()"
   ]
  },
  {
   "cell_type": "code",
   "execution_count": 19,
   "id": "b8b8c599",
   "metadata": {
    "execution": {
     "iopub.execute_input": "2023-02-26T23:57:45.053319Z",
     "iopub.status.busy": "2023-02-26T23:57:45.052993Z",
     "iopub.status.idle": "2023-02-26T23:57:45.056558Z",
     "shell.execute_reply": "2023-02-26T23:57:45.055780Z"
    },
    "papermill": {
     "duration": 0.016606,
     "end_time": "2023-02-26T23:57:45.058243",
     "exception": false,
     "start_time": "2023-02-26T23:57:45.041637",
     "status": "completed"
    },
    "tags": []
   },
   "outputs": [],
   "source": [
    "# Lines below will give you a hint or solution code\n",
    "# step_3.b.hint()\n",
    "#step_3.b.solution()"
   ]
  },
  {
   "cell_type": "markdown",
   "id": "8a97c4c8",
   "metadata": {
    "papermill": {
     "duration": 0.010009,
     "end_time": "2023-02-26T23:57:45.078468",
     "exception": false,
     "start_time": "2023-02-26T23:57:45.068459",
     "status": "completed"
    },
    "tags": []
   },
   "source": [
    "Next, you'll experiment with one-hot encoding.  But, instead of encoding all of the categorical variables in the dataset, you'll only create a one-hot encoding for columns with cardinality less than 10.\n",
    "\n",
    "Run the code cell below without changes to set `low_cardinality_cols` to a Python list containing the columns that will be one-hot encoded.  Likewise, `high_cardinality_cols` contains a list of categorical columns that will be dropped from the dataset."
   ]
  },
  {
   "cell_type": "code",
   "execution_count": 20,
   "id": "d5b4885c",
   "metadata": {
    "execution": {
     "iopub.execute_input": "2023-02-26T23:57:45.100645Z",
     "iopub.status.busy": "2023-02-26T23:57:45.100315Z",
     "iopub.status.idle": "2023-02-26T23:57:45.111045Z",
     "shell.execute_reply": "2023-02-26T23:57:45.109702Z"
    },
    "papermill": {
     "duration": 0.0249,
     "end_time": "2023-02-26T23:57:45.113770",
     "exception": false,
     "start_time": "2023-02-26T23:57:45.088870",
     "status": "completed"
    },
    "tags": []
   },
   "outputs": [
    {
     "name": "stdout",
     "output_type": "stream",
     "text": [
      "Categorical columns that will be one-hot encoded: ['MSZoning', 'Street', 'LotShape', 'LandContour', 'Utilities', 'LotConfig', 'LandSlope', 'Condition1', 'Condition2', 'BldgType', 'HouseStyle', 'RoofStyle', 'RoofMatl', 'ExterQual', 'ExterCond', 'Foundation', 'Heating', 'HeatingQC', 'CentralAir', 'KitchenQual', 'Functional', 'PavedDrive', 'SaleType', 'SaleCondition']\n",
      "\n",
      "Categorical columns that will be dropped from the dataset: ['Exterior2nd', 'Exterior1st', 'Neighborhood']\n"
     ]
    }
   ],
   "source": [
    "# Columns that will be one-hot encoded\n",
    "low_cardinality_cols = [col for col in object_cols if X_train[col].nunique() < 10]\n",
    "\n",
    "# Columns that will be dropped from the dataset\n",
    "high_cardinality_cols = list(set(object_cols)-set(low_cardinality_cols))\n",
    "\n",
    "print('Categorical columns that will be one-hot encoded:', low_cardinality_cols)\n",
    "print('\\nCategorical columns that will be dropped from the dataset:', high_cardinality_cols)"
   ]
  },
  {
   "cell_type": "markdown",
   "id": "46ab4658",
   "metadata": {
    "papermill": {
     "duration": 0.010144,
     "end_time": "2023-02-26T23:57:45.135011",
     "exception": false,
     "start_time": "2023-02-26T23:57:45.124867",
     "status": "completed"
    },
    "tags": []
   },
   "source": [
    "# Step 4: One-hot encoding\n",
    "\n",
    "Use the next code cell to one-hot encode the data in `X_train` and `X_valid`.  Set the preprocessed DataFrames to `OH_X_train` and `OH_X_valid`, respectively.  \n",
    "- The full list of categorical columns in the dataset can be found in the Python list `object_cols`.\n",
    "- You should only one-hot encode the categorical columns in `low_cardinality_cols`.  All other categorical columns should be dropped from the dataset. "
   ]
  },
  {
   "cell_type": "code",
   "execution_count": 21,
   "id": "da7cd10f",
   "metadata": {
    "execution": {
     "iopub.execute_input": "2023-02-26T23:57:45.159078Z",
     "iopub.status.busy": "2023-02-26T23:57:45.158662Z",
     "iopub.status.idle": "2023-02-26T23:57:45.193167Z",
     "shell.execute_reply": "2023-02-26T23:57:45.192479Z"
    },
    "papermill": {
     "duration": 0.049558,
     "end_time": "2023-02-26T23:57:45.194962",
     "exception": false,
     "start_time": "2023-02-26T23:57:45.145404",
     "status": "completed"
    },
    "tags": []
   },
   "outputs": [
    {
     "data": {
      "application/javascript": [
       "parent.postMessage({\"jupyterEvent\": \"custom.exercise_interaction\", \"data\": {\"outcomeType\": 1, \"valueTowardsCompletion\": 0.5, \"interactionType\": 1, \"questionType\": 2, \"questionId\": \"4_OneHot\", \"learnToolsVersion\": \"0.3.4\", \"failureMessage\": \"\", \"exceptionClass\": \"\", \"trace\": \"\"}}, \"*\")"
      ],
      "text/plain": [
       "<IPython.core.display.Javascript object>"
      ]
     },
     "metadata": {},
     "output_type": "display_data"
    },
    {
     "data": {
      "text/markdown": [
       "<span style=\"color:#33cc33\">Correct</span>"
      ],
      "text/plain": [
       "Correct"
      ]
     },
     "metadata": {},
     "output_type": "display_data"
    }
   ],
   "source": [
    "from sklearn.preprocessing import OneHotEncoder\n",
    "\n",
    "# Use as many lines of code as you need!\n",
    "\n",
    "\n",
    "# Apply one-hot encoder to each column with categorical data\n",
    "OH_encoder = OneHotEncoder(handle_unknown='ignore', sparse=False)\n",
    "OH_cols_train = pd.DataFrame(OH_encoder.fit_transform(X_train[low_cardinality_cols]))\n",
    "OH_cols_valid = pd.DataFrame(OH_encoder.transform(X_valid[low_cardinality_cols]))\n",
    "\n",
    "# One-hot encoding removed index; put it back\n",
    "OH_cols_train.index = X_train.index\n",
    "OH_cols_valid.index = X_valid.index\n",
    "\n",
    "# Remove categorical columns (will replace with one-hot encoding)\n",
    "num_X_train = X_train.drop(object_cols, axis=1)\n",
    "num_X_valid = X_valid.drop(object_cols, axis=1)\n",
    "\n",
    "# Add one-hot encoded columns to numerical features\n",
    "OH_X_train = pd.concat([num_X_train, OH_cols_train], axis=1)\n",
    "OH_X_valid = pd.concat([num_X_valid, OH_cols_valid], axis=1)\n",
    "\n",
    "\n",
    "# Check your answer\n",
    "step_4.check()"
   ]
  },
  {
   "cell_type": "code",
   "execution_count": 22,
   "id": "f7ff5053",
   "metadata": {
    "execution": {
     "iopub.execute_input": "2023-02-26T23:57:45.218653Z",
     "iopub.status.busy": "2023-02-26T23:57:45.218213Z",
     "iopub.status.idle": "2023-02-26T23:57:45.221846Z",
     "shell.execute_reply": "2023-02-26T23:57:45.220892Z"
    },
    "papermill": {
     "duration": 0.018643,
     "end_time": "2023-02-26T23:57:45.224391",
     "exception": false,
     "start_time": "2023-02-26T23:57:45.205748",
     "status": "completed"
    },
    "tags": []
   },
   "outputs": [],
   "source": [
    "# Lines below will give you a hint or solution code\n",
    "# step_4.hint()\n",
    "# step_4.solution()"
   ]
  },
  {
   "cell_type": "markdown",
   "id": "7d4ba5f9",
   "metadata": {
    "papermill": {
     "duration": 0.010729,
     "end_time": "2023-02-26T23:57:45.246246",
     "exception": false,
     "start_time": "2023-02-26T23:57:45.235517",
     "status": "completed"
    },
    "tags": []
   },
   "source": [
    "Run the next code cell to get the MAE for this approach."
   ]
  },
  {
   "cell_type": "code",
   "execution_count": 23,
   "id": "bd69072d",
   "metadata": {
    "execution": {
     "iopub.execute_input": "2023-02-26T23:57:45.270793Z",
     "iopub.status.busy": "2023-02-26T23:57:45.270214Z",
     "iopub.status.idle": "2023-02-26T23:57:46.675107Z",
     "shell.execute_reply": "2023-02-26T23:57:46.673732Z"
    },
    "papermill": {
     "duration": 1.420537,
     "end_time": "2023-02-26T23:57:46.678517",
     "exception": false,
     "start_time": "2023-02-26T23:57:45.257980",
     "status": "completed"
    },
    "tags": []
   },
   "outputs": [
    {
     "name": "stdout",
     "output_type": "stream",
     "text": [
      "MAE from Approach 3 (One-Hot Encoding):\n"
     ]
    },
    {
     "name": "stderr",
     "output_type": "stream",
     "text": [
      "/opt/conda/lib/python3.7/site-packages/sklearn/utils/validation.py:1692: FutureWarning: Feature names only support names that are all strings. Got feature names with dtypes: ['int', 'str']. An error will be raised in 1.2.\n",
      "  FutureWarning,\n"
     ]
    },
    {
     "name": "stdout",
     "output_type": "stream",
     "text": [
      "17525.345719178084\n"
     ]
    },
    {
     "name": "stderr",
     "output_type": "stream",
     "text": [
      "/opt/conda/lib/python3.7/site-packages/sklearn/utils/validation.py:1692: FutureWarning: Feature names only support names that are all strings. Got feature names with dtypes: ['int', 'str']. An error will be raised in 1.2.\n",
      "  FutureWarning,\n"
     ]
    }
   ],
   "source": [
    "print(\"MAE from Approach 3 (One-Hot Encoding):\") \n",
    "print(score_dataset(OH_X_train, OH_X_valid, y_train, y_valid))"
   ]
  },
  {
   "cell_type": "markdown",
   "id": "225eaffe",
   "metadata": {
    "papermill": {
     "duration": 0.010858,
     "end_time": "2023-02-26T23:57:46.701237",
     "exception": false,
     "start_time": "2023-02-26T23:57:46.690379",
     "status": "completed"
    },
    "tags": []
   },
   "source": [
    "# Generate test predictions and submit your results\n",
    "\n",
    "After you complete Step 4, if you'd like to use what you've learned to submit your results to the leaderboard, you'll need to preprocess the test data before generating predictions.\n",
    "\n",
    "**This step is completely optional, and you do not need to submit results to the leaderboard to successfully complete the exercise.**\n",
    "\n",
    "Check out the previous exercise if you need help with remembering how to [join the competition](https://www.kaggle.com/c/home-data-for-ml-course) or save your results to CSV.  Once you have generated a file with your results, follow the instructions below:\n",
    "1. Begin by clicking on the **Save Version** button in the top right corner of the window.  This will generate a pop-up window.  \n",
    "2. Ensure that the **Save and Run All** option is selected, and then click on the **Save** button.\n",
    "3. This generates a window in the bottom left corner of the notebook.  After it has finished running, click on the number to the right of the **Save Version** button.  This pulls up a list of versions on the right of the screen.  Click on the ellipsis **(...)** to the right of the most recent version, and select **Open in Viewer**.  This brings you into view mode of the same page. You will need to scroll down to get back to these instructions.\n",
    "4. Click on the **Output** tab on the right of the screen.  Then, click on the file you would like to submit, and click on the **Submit** button to submit your results to the leaderboard.\n",
    "\n",
    "You have now successfully submitted to the competition!\n",
    "\n",
    "If you want to keep working to improve your performance, select the **Edit** button in the top right of the screen. Then you can change your code and repeat the process. There's a lot of room to improve, and you will climb up the leaderboard as you work.\n"
   ]
  },
  {
   "cell_type": "code",
   "execution_count": 24,
   "id": "95c72dd3",
   "metadata": {
    "execution": {
     "iopub.execute_input": "2023-02-26T23:57:46.725989Z",
     "iopub.status.busy": "2023-02-26T23:57:46.725177Z",
     "iopub.status.idle": "2023-02-26T23:57:46.729284Z",
     "shell.execute_reply": "2023-02-26T23:57:46.728628Z"
    },
    "papermill": {
     "duration": 0.019328,
     "end_time": "2023-02-26T23:57:46.731198",
     "exception": false,
     "start_time": "2023-02-26T23:57:46.711870",
     "status": "completed"
    },
    "tags": []
   },
   "outputs": [],
   "source": [
    "# Preprocess test data\n",
    "# object_cols = [col for col in X_train.columns if X_train[col].dtype == \"object\"]\n",
    "# good_label_cols = [col for col in object_cols if \n",
    "#                    set(X_test[col]).issubset(set(X_train[col]))]\n",
    "# bad_label_cols = list(set(object_cols)-set(good_label_cols))\n",
    "# label_X_train = X_train.drop(bad_label_cols, axis=1)\n",
    "# label_X_test = X_test.drop(bad_label_cols, axis=1)\n",
    "\n",
    "# ordinal_encoder=OrdinalEncoder()\n",
    "\n",
    "# label_X_train[good_label_cols] = ordinal_encoder.fit_transform(X_train[good_label_cols])\n",
    "# label_X_test[good_label_cols] = ordinal_encoder.transform(X_test[good_label_cols])\n",
    "\n",
    "# # Get test predictions\n",
    "# model = RandomForestRegressor(n_estimators=100, random_state=0)\n",
    "# model.fit(label_X_train, y_train)\n",
    "# preds_test = model.predict(label_X_test)\n",
    "\n",
    "# preds_test = ordinal_encoder.predict(label_X_test)"
   ]
  },
  {
   "cell_type": "code",
   "execution_count": 25,
   "id": "9004c8ab",
   "metadata": {
    "execution": {
     "iopub.execute_input": "2023-02-26T23:57:46.756233Z",
     "iopub.status.busy": "2023-02-26T23:57:46.755044Z",
     "iopub.status.idle": "2023-02-26T23:57:46.759267Z",
     "shell.execute_reply": "2023-02-26T23:57:46.758586Z"
    },
    "papermill": {
     "duration": 0.018555,
     "end_time": "2023-02-26T23:57:46.761078",
     "exception": false,
     "start_time": "2023-02-26T23:57:46.742523",
     "status": "completed"
    },
    "tags": []
   },
   "outputs": [],
   "source": [
    "# Save test predictions to file\n",
    "# output = pd.DataFrame({'Id': X_test.index,\n",
    "#                        'SalePrice': preds_test})\n",
    "# output.to_csv('submission.csv', index=False)"
   ]
  },
  {
   "cell_type": "markdown",
   "id": "2b77c21f",
   "metadata": {
    "papermill": {
     "duration": 0.010785,
     "end_time": "2023-02-26T23:57:46.782953",
     "exception": false,
     "start_time": "2023-02-26T23:57:46.772168",
     "status": "completed"
    },
    "tags": []
   },
   "source": [
    "# Keep going\n",
    "\n",
    "With missing value handling and categorical encoding, your modeling process is getting complex. This complexity gets worse when you want to save your model to use in the future. The key to managing this complexity is something called **pipelines**. \n",
    "\n",
    "**[Learn to use pipelines](https://www.kaggle.com/alexisbcook/pipelines)** to preprocess datasets with categorical variables, missing values and any other messiness your data throws at you."
   ]
  },
  {
   "cell_type": "markdown",
   "id": "07fec70b",
   "metadata": {
    "papermill": {
     "duration": 0.01092,
     "end_time": "2023-02-26T23:57:46.805003",
     "exception": false,
     "start_time": "2023-02-26T23:57:46.794083",
     "status": "completed"
    },
    "tags": []
   },
   "source": [
    "---\n",
    "\n",
    "\n",
    "\n",
    "\n",
    "*Have questions or comments? Visit the [course discussion forum](https://www.kaggle.com/learn/intermediate-machine-learning/discussion) to chat with other learners.*"
   ]
  }
 ],
 "metadata": {
  "kernelspec": {
   "display_name": "Python 3",
   "language": "python",
   "name": "python3"
  },
  "language_info": {
   "codemirror_mode": {
    "name": "ipython",
    "version": 3
   },
   "file_extension": ".py",
   "mimetype": "text/x-python",
   "name": "python",
   "nbconvert_exporter": "python",
   "pygments_lexer": "ipython3",
   "version": "3.7.12"
  },
  "papermill": {
   "default_parameters": {},
   "duration": 15.509304,
   "end_time": "2023-02-26T23:57:47.537114",
   "environment_variables": {},
   "exception": null,
   "input_path": "__notebook__.ipynb",
   "output_path": "__notebook__.ipynb",
   "parameters": {},
   "start_time": "2023-02-26T23:57:32.027810",
   "version": "2.4.0"
  }
 },
 "nbformat": 4,
 "nbformat_minor": 5
}
