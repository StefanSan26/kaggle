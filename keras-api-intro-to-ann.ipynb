{
 "cells": [
  {
   "cell_type": "code",
   "execution_count": 1,
   "id": "c2924c6b",
   "metadata": {
    "_cell_guid": "b1076dfc-b9ad-4769-8c92-a6c4dae69d19",
    "_uuid": "8f2839f25d086af736a60e9eeb907d3b93b6e0e5",
    "execution": {
     "iopub.execute_input": "2023-11-05T14:12:12.050536Z",
     "iopub.status.busy": "2023-11-05T14:12:12.049371Z",
     "iopub.status.idle": "2023-11-05T14:12:22.973699Z",
     "shell.execute_reply": "2023-11-05T14:12:22.972485Z"
    },
    "papermill": {
     "duration": 10.947061,
     "end_time": "2023-11-05T14:12:22.976685",
     "exception": false,
     "start_time": "2023-11-05T14:12:12.029624",
     "status": "completed"
    },
    "tags": []
   },
   "outputs": [],
   "source": [
    "import numpy as np \n",
    "import pandas as pd \n",
    "import tensorflow as tf\n",
    "from tensorflow import keras"
   ]
  },
  {
   "cell_type": "markdown",
   "id": "531bb38c",
   "metadata": {
    "papermill": {
     "duration": 0.017003,
     "end_time": "2023-11-05T14:12:23.011365",
     "exception": false,
     "start_time": "2023-11-05T14:12:22.994362",
     "status": "completed"
    },
    "tags": []
   },
   "source": [
    "# Using the Sequential API"
   ]
  },
  {
   "cell_type": "markdown",
   "id": "c1e7bf36",
   "metadata": {
    "papermill": {
     "duration": 0.016891,
     "end_time": "2023-11-05T14:12:23.045679",
     "exception": false,
     "start_time": "2023-11-05T14:12:23.028788",
     "status": "completed"
    },
    "tags": []
   },
   "source": [
    "## Classification"
   ]
  },
  {
   "cell_type": "code",
   "execution_count": 2,
   "id": "0abd9129",
   "metadata": {
    "execution": {
     "iopub.execute_input": "2023-11-05T14:12:23.083662Z",
     "iopub.status.busy": "2023-11-05T14:12:23.082065Z",
     "iopub.status.idle": "2023-11-05T14:12:24.083847Z",
     "shell.execute_reply": "2023-11-05T14:12:24.082700Z"
    },
    "papermill": {
     "duration": 1.023624,
     "end_time": "2023-11-05T14:12:24.086947",
     "exception": false,
     "start_time": "2023-11-05T14:12:23.063323",
     "status": "completed"
    },
    "tags": []
   },
   "outputs": [
    {
     "name": "stdout",
     "output_type": "stream",
     "text": [
      "Downloading data from https://storage.googleapis.com/tensorflow/tf-keras-datasets/train-labels-idx1-ubyte.gz\n",
      "29515/29515 [==============================] - 0s 0us/step\n",
      "Downloading data from https://storage.googleapis.com/tensorflow/tf-keras-datasets/train-images-idx3-ubyte.gz\n",
      "26421880/26421880 [==============================] - 0s 0us/step\n",
      "Downloading data from https://storage.googleapis.com/tensorflow/tf-keras-datasets/t10k-labels-idx1-ubyte.gz\n",
      "5148/5148 [==============================] - 0s 0us/step\n",
      "Downloading data from https://storage.googleapis.com/tensorflow/tf-keras-datasets/t10k-images-idx3-ubyte.gz\n",
      "4422102/4422102 [==============================] - 0s 0us/step\n"
     ]
    }
   ],
   "source": [
    "fashion_mnist = keras.datasets.fashion_mnist\n",
    "(X_train_full, y_train_full), (X_test, y_test) = fashion_mnist.load_data()"
   ]
  },
  {
   "cell_type": "code",
   "execution_count": 3,
   "id": "01e64f8a",
   "metadata": {
    "execution": {
     "iopub.execute_input": "2023-11-05T14:12:24.127725Z",
     "iopub.status.busy": "2023-11-05T14:12:24.127280Z",
     "iopub.status.idle": "2023-11-05T14:12:24.135779Z",
     "shell.execute_reply": "2023-11-05T14:12:24.134601Z"
    },
    "papermill": {
     "duration": 0.032094,
     "end_time": "2023-11-05T14:12:24.138300",
     "exception": false,
     "start_time": "2023-11-05T14:12:24.106206",
     "status": "completed"
    },
    "tags": []
   },
   "outputs": [
    {
     "data": {
      "text/plain": [
       "(60000, 28, 28)"
      ]
     },
     "execution_count": 3,
     "metadata": {},
     "output_type": "execute_result"
    }
   ],
   "source": [
    "X_train_full.shape"
   ]
  },
  {
   "cell_type": "code",
   "execution_count": 4,
   "id": "bdcb5dc5",
   "metadata": {
    "execution": {
     "iopub.execute_input": "2023-11-05T14:12:24.179085Z",
     "iopub.status.busy": "2023-11-05T14:12:24.178659Z",
     "iopub.status.idle": "2023-11-05T14:12:24.185603Z",
     "shell.execute_reply": "2023-11-05T14:12:24.184382Z"
    },
    "papermill": {
     "duration": 0.030582,
     "end_time": "2023-11-05T14:12:24.188302",
     "exception": false,
     "start_time": "2023-11-05T14:12:24.157720",
     "status": "completed"
    },
    "tags": []
   },
   "outputs": [
    {
     "data": {
      "text/plain": [
       "dtype('uint8')"
      ]
     },
     "execution_count": 4,
     "metadata": {},
     "output_type": "execute_result"
    }
   ],
   "source": [
    "X_train_full.dtype"
   ]
  },
  {
   "cell_type": "code",
   "execution_count": 5,
   "id": "56c929db",
   "metadata": {
    "execution": {
     "iopub.execute_input": "2023-11-05T14:12:24.229853Z",
     "iopub.status.busy": "2023-11-05T14:12:24.229393Z",
     "iopub.status.idle": "2023-11-05T14:12:24.423722Z",
     "shell.execute_reply": "2023-11-05T14:12:24.422341Z"
    },
    "papermill": {
     "duration": 0.219218,
     "end_time": "2023-11-05T14:12:24.427161",
     "exception": false,
     "start_time": "2023-11-05T14:12:24.207943",
     "status": "completed"
    },
    "tags": []
   },
   "outputs": [],
   "source": [
    "X_valid, X_train = X_train_full[:5000]/255.0, X_train_full[5000:]/255.0\n",
    "y_valid, y_train = y_train_full[:5000], y_train_full[5000:]"
   ]
  },
  {
   "cell_type": "code",
   "execution_count": 6,
   "id": "d7013ff3",
   "metadata": {
    "execution": {
     "iopub.execute_input": "2023-11-05T14:12:24.468718Z",
     "iopub.status.busy": "2023-11-05T14:12:24.468309Z",
     "iopub.status.idle": "2023-11-05T14:12:24.474091Z",
     "shell.execute_reply": "2023-11-05T14:12:24.473009Z"
    },
    "papermill": {
     "duration": 0.029473,
     "end_time": "2023-11-05T14:12:24.476524",
     "exception": false,
     "start_time": "2023-11-05T14:12:24.447051",
     "status": "completed"
    },
    "tags": []
   },
   "outputs": [],
   "source": [
    "class_names=[\"T-shirt/top\", \"Trouser\", \"Pullover\", \"Dress\", \"Coat\", \"Sandal\", \"Shirt\", \"Sneaker\", \"Bag\", \"Ankle\", \"boot\"]"
   ]
  },
  {
   "cell_type": "code",
   "execution_count": 7,
   "id": "19aee3d1",
   "metadata": {
    "execution": {
     "iopub.execute_input": "2023-11-05T14:12:24.518852Z",
     "iopub.status.busy": "2023-11-05T14:12:24.518422Z",
     "iopub.status.idle": "2023-11-05T14:12:24.525552Z",
     "shell.execute_reply": "2023-11-05T14:12:24.524272Z"
    },
    "papermill": {
     "duration": 0.031891,
     "end_time": "2023-11-05T14:12:24.528599",
     "exception": false,
     "start_time": "2023-11-05T14:12:24.496708",
     "status": "completed"
    },
    "tags": []
   },
   "outputs": [
    {
     "data": {
      "text/plain": [
       "'Coat'"
      ]
     },
     "execution_count": 7,
     "metadata": {},
     "output_type": "execute_result"
    }
   ],
   "source": [
    "class_names[y_train[0]]"
   ]
  },
  {
   "cell_type": "code",
   "execution_count": 8,
   "id": "16720785",
   "metadata": {
    "execution": {
     "iopub.execute_input": "2023-11-05T14:12:24.570812Z",
     "iopub.status.busy": "2023-11-05T14:12:24.570381Z",
     "iopub.status.idle": "2023-11-05T14:12:24.782966Z",
     "shell.execute_reply": "2023-11-05T14:12:24.781605Z"
    },
    "papermill": {
     "duration": 0.236711,
     "end_time": "2023-11-05T14:12:24.785715",
     "exception": false,
     "start_time": "2023-11-05T14:12:24.549004",
     "status": "completed"
    },
    "tags": []
   },
   "outputs": [],
   "source": [
    "model = keras.models.Sequential()\n",
    "model.add(keras.layers.Flatten(input_shape=[28,28]))\n",
    "model.add(keras.layers.Dense(300, activation=\"relu\"))\n",
    "model.add(keras.layers.Dense(100, activation=\"relu\"))\n",
    "model.add(keras.layers.Dense(10, activation=\"softmax\"))"
   ]
  },
  {
   "cell_type": "code",
   "execution_count": 9,
   "id": "beaf312e",
   "metadata": {
    "execution": {
     "iopub.execute_input": "2023-11-05T14:12:24.827400Z",
     "iopub.status.busy": "2023-11-05T14:12:24.826975Z",
     "iopub.status.idle": "2023-11-05T14:12:24.852537Z",
     "shell.execute_reply": "2023-11-05T14:12:24.851327Z"
    },
    "papermill": {
     "duration": 0.052594,
     "end_time": "2023-11-05T14:12:24.858797",
     "exception": false,
     "start_time": "2023-11-05T14:12:24.806203",
     "status": "completed"
    },
    "tags": []
   },
   "outputs": [
    {
     "name": "stdout",
     "output_type": "stream",
     "text": [
      "Model: \"sequential\"\n",
      "_________________________________________________________________\n",
      " Layer (type)                Output Shape              Param #   \n",
      "=================================================================\n",
      " flatten (Flatten)           (None, 784)               0         \n",
      "                                                                 \n",
      " dense (Dense)               (None, 300)               235500    \n",
      "                                                                 \n",
      " dense_1 (Dense)             (None, 100)               30100     \n",
      "                                                                 \n",
      " dense_2 (Dense)             (None, 10)                1010      \n",
      "                                                                 \n",
      "=================================================================\n",
      "Total params: 266,610\n",
      "Trainable params: 266,610\n",
      "Non-trainable params: 0\n",
      "_________________________________________________________________\n"
     ]
    }
   ],
   "source": [
    "model.summary()"
   ]
  },
  {
   "cell_type": "code",
   "execution_count": 10,
   "id": "6f04543a",
   "metadata": {
    "execution": {
     "iopub.execute_input": "2023-11-05T14:12:24.967540Z",
     "iopub.status.busy": "2023-11-05T14:12:24.966422Z",
     "iopub.status.idle": "2023-11-05T14:12:24.974131Z",
     "shell.execute_reply": "2023-11-05T14:12:24.972940Z"
    },
    "papermill": {
     "duration": 0.097277,
     "end_time": "2023-11-05T14:12:24.976642",
     "exception": false,
     "start_time": "2023-11-05T14:12:24.879365",
     "status": "completed"
    },
    "tags": []
   },
   "outputs": [
    {
     "data": {
      "text/plain": [
       "[<keras.layers.reshaping.flatten.Flatten at 0x7fd1af374700>,\n",
       " <keras.layers.core.dense.Dense at 0x7fd1440f7cd0>,\n",
       " <keras.layers.core.dense.Dense at 0x7fd1440f7040>,\n",
       " <keras.layers.core.dense.Dense at 0x7fd143ee01c0>]"
      ]
     },
     "execution_count": 10,
     "metadata": {},
     "output_type": "execute_result"
    }
   ],
   "source": [
    "model.layers"
   ]
  },
  {
   "cell_type": "code",
   "execution_count": 11,
   "id": "4dc6e0ac",
   "metadata": {
    "execution": {
     "iopub.execute_input": "2023-11-05T14:12:25.021523Z",
     "iopub.status.busy": "2023-11-05T14:12:25.021100Z",
     "iopub.status.idle": "2023-11-05T14:12:25.033691Z",
     "shell.execute_reply": "2023-11-05T14:12:25.032399Z"
    },
    "papermill": {
     "duration": 0.037882,
     "end_time": "2023-11-05T14:12:25.036410",
     "exception": false,
     "start_time": "2023-11-05T14:12:24.998528",
     "status": "completed"
    },
    "tags": []
   },
   "outputs": [],
   "source": [
    "weights, biases =model.layers[1].get_weights()"
   ]
  },
  {
   "cell_type": "code",
   "execution_count": 12,
   "id": "618ea7fb",
   "metadata": {
    "execution": {
     "iopub.execute_input": "2023-11-05T14:12:25.080924Z",
     "iopub.status.busy": "2023-11-05T14:12:25.080457Z",
     "iopub.status.idle": "2023-11-05T14:12:25.086795Z",
     "shell.execute_reply": "2023-11-05T14:12:25.085298Z"
    },
    "papermill": {
     "duration": 0.03181,
     "end_time": "2023-11-05T14:12:25.089679",
     "exception": false,
     "start_time": "2023-11-05T14:12:25.057869",
     "status": "completed"
    },
    "tags": []
   },
   "outputs": [
    {
     "name": "stdout",
     "output_type": "stream",
     "text": [
      "Weights shape: (784, 300)\n",
      "Biases shape: (300,)\n"
     ]
    }
   ],
   "source": [
    "print(f\"Weights shape: {weights.shape}\" )\n",
    "print(f\"Biases shape: {biases.shape}\" )"
   ]
  },
  {
   "cell_type": "code",
   "execution_count": 13,
   "id": "01e097ff",
   "metadata": {
    "execution": {
     "iopub.execute_input": "2023-11-05T14:12:25.133704Z",
     "iopub.status.busy": "2023-11-05T14:12:25.133279Z",
     "iopub.status.idle": "2023-11-05T14:12:25.153716Z",
     "shell.execute_reply": "2023-11-05T14:12:25.152634Z"
    },
    "papermill": {
     "duration": 0.045607,
     "end_time": "2023-11-05T14:12:25.156476",
     "exception": false,
     "start_time": "2023-11-05T14:12:25.110869",
     "status": "completed"
    },
    "tags": []
   },
   "outputs": [],
   "source": [
    "model.compile(loss=\"sparse_categorical_crossentropy\", optimizer=\"sgd\", metrics=[\"accuracy\"])"
   ]
  },
  {
   "cell_type": "code",
   "execution_count": 14,
   "id": "c4f8ec69",
   "metadata": {
    "collapsed": true,
    "execution": {
     "iopub.execute_input": "2023-11-05T14:12:25.201849Z",
     "iopub.status.busy": "2023-11-05T14:12:25.200699Z",
     "iopub.status.idle": "2023-11-05T14:15:48.160827Z",
     "shell.execute_reply": "2023-11-05T14:15:48.159573Z"
    },
    "jupyter": {
     "outputs_hidden": true
    },
    "papermill": {
     "duration": 202.985854,
     "end_time": "2023-11-05T14:15:48.163963",
     "exception": false,
     "start_time": "2023-11-05T14:12:25.178109",
     "status": "completed"
    },
    "tags": []
   },
   "outputs": [
    {
     "name": "stdout",
     "output_type": "stream",
     "text": [
      "Epoch 1/30\n",
      "1719/1719 [==============================] - 7s 4ms/step - loss: 0.7290 - accuracy: 0.7573 - val_loss: 0.5400 - val_accuracy: 0.8120\n",
      "Epoch 2/30\n",
      "1719/1719 [==============================] - 6s 4ms/step - loss: 0.4897 - accuracy: 0.8279 - val_loss: 0.4605 - val_accuracy: 0.8432\n",
      "Epoch 3/30\n",
      "1719/1719 [==============================] - 6s 4ms/step - loss: 0.4453 - accuracy: 0.8442 - val_loss: 0.4126 - val_accuracy: 0.8618\n",
      "Epoch 4/30\n",
      "1719/1719 [==============================] - 6s 4ms/step - loss: 0.4173 - accuracy: 0.8537 - val_loss: 0.3953 - val_accuracy: 0.8684\n",
      "Epoch 5/30\n",
      "1719/1719 [==============================] - 6s 4ms/step - loss: 0.3961 - accuracy: 0.8615 - val_loss: 0.3802 - val_accuracy: 0.8694\n",
      "Epoch 6/30\n",
      "1719/1719 [==============================] - 6s 4ms/step - loss: 0.3799 - accuracy: 0.8672 - val_loss: 0.3813 - val_accuracy: 0.8656\n",
      "Epoch 7/30\n",
      "1719/1719 [==============================] - 6s 4ms/step - loss: 0.3660 - accuracy: 0.8712 - val_loss: 0.3691 - val_accuracy: 0.8746\n",
      "Epoch 8/30\n",
      "1719/1719 [==============================] - 7s 4ms/step - loss: 0.3543 - accuracy: 0.8741 - val_loss: 0.3494 - val_accuracy: 0.8808\n",
      "Epoch 9/30\n",
      "1719/1719 [==============================] - 6s 4ms/step - loss: 0.3431 - accuracy: 0.8783 - val_loss: 0.3518 - val_accuracy: 0.8774\n",
      "Epoch 10/30\n",
      "1719/1719 [==============================] - 6s 4ms/step - loss: 0.3333 - accuracy: 0.8821 - val_loss: 0.3426 - val_accuracy: 0.8800\n",
      "Epoch 11/30\n",
      "1719/1719 [==============================] - 6s 3ms/step - loss: 0.3258 - accuracy: 0.8841 - val_loss: 0.3486 - val_accuracy: 0.8786\n",
      "Epoch 12/30\n",
      "1719/1719 [==============================] - 6s 4ms/step - loss: 0.3171 - accuracy: 0.8875 - val_loss: 0.3448 - val_accuracy: 0.8806\n",
      "Epoch 13/30\n",
      "1719/1719 [==============================] - 6s 4ms/step - loss: 0.3096 - accuracy: 0.8891 - val_loss: 0.3298 - val_accuracy: 0.8844\n",
      "Epoch 14/30\n",
      "1719/1719 [==============================] - 6s 4ms/step - loss: 0.3031 - accuracy: 0.8916 - val_loss: 0.3243 - val_accuracy: 0.8892\n",
      "Epoch 15/30\n",
      "1719/1719 [==============================] - 7s 4ms/step - loss: 0.2978 - accuracy: 0.8940 - val_loss: 0.3167 - val_accuracy: 0.8890\n",
      "Epoch 16/30\n",
      "1719/1719 [==============================] - 7s 4ms/step - loss: 0.2904 - accuracy: 0.8963 - val_loss: 0.3200 - val_accuracy: 0.8880\n",
      "Epoch 17/30\n",
      "1719/1719 [==============================] - 7s 4ms/step - loss: 0.2855 - accuracy: 0.8983 - val_loss: 0.3149 - val_accuracy: 0.8898\n",
      "Epoch 18/30\n",
      "1719/1719 [==============================] - 7s 4ms/step - loss: 0.2802 - accuracy: 0.8988 - val_loss: 0.3388 - val_accuracy: 0.8804\n",
      "Epoch 19/30\n",
      "1719/1719 [==============================] - 7s 4ms/step - loss: 0.2757 - accuracy: 0.9009 - val_loss: 0.3125 - val_accuracy: 0.8918\n",
      "Epoch 20/30\n",
      "1719/1719 [==============================] - 7s 4ms/step - loss: 0.2696 - accuracy: 0.9040 - val_loss: 0.3050 - val_accuracy: 0.8932\n",
      "Epoch 21/30\n",
      "1719/1719 [==============================] - 7s 4ms/step - loss: 0.2648 - accuracy: 0.9038 - val_loss: 0.3075 - val_accuracy: 0.8902\n",
      "Epoch 22/30\n",
      "1719/1719 [==============================] - 7s 4ms/step - loss: 0.2603 - accuracy: 0.9069 - val_loss: 0.3055 - val_accuracy: 0.8932\n",
      "Epoch 23/30\n",
      "1719/1719 [==============================] - 7s 4ms/step - loss: 0.2561 - accuracy: 0.9082 - val_loss: 0.3031 - val_accuracy: 0.8932\n",
      "Epoch 24/30\n",
      "1719/1719 [==============================] - 8s 5ms/step - loss: 0.2514 - accuracy: 0.9101 - val_loss: 0.3065 - val_accuracy: 0.8884\n",
      "Epoch 25/30\n",
      "1719/1719 [==============================] - 7s 4ms/step - loss: 0.2480 - accuracy: 0.9113 - val_loss: 0.3034 - val_accuracy: 0.8928\n",
      "Epoch 26/30\n",
      "1719/1719 [==============================] - 7s 4ms/step - loss: 0.2437 - accuracy: 0.9129 - val_loss: 0.2975 - val_accuracy: 0.8980\n",
      "Epoch 27/30\n",
      "1719/1719 [==============================] - 7s 4ms/step - loss: 0.2394 - accuracy: 0.9150 - val_loss: 0.2933 - val_accuracy: 0.8944\n",
      "Epoch 28/30\n",
      "1719/1719 [==============================] - 7s 4ms/step - loss: 0.2357 - accuracy: 0.9162 - val_loss: 0.3084 - val_accuracy: 0.8876\n",
      "Epoch 29/30\n",
      "1719/1719 [==============================] - 7s 4ms/step - loss: 0.2318 - accuracy: 0.9171 - val_loss: 0.3050 - val_accuracy: 0.8908\n",
      "Epoch 30/30\n",
      "1719/1719 [==============================] - 6s 4ms/step - loss: 0.2275 - accuracy: 0.9181 - val_loss: 0.2998 - val_accuracy: 0.8968\n"
     ]
    }
   ],
   "source": [
    "history=model.fit(X_train, y_train, epochs=30, validation_data=(X_valid, y_valid))"
   ]
  },
  {
   "cell_type": "code",
   "execution_count": 15,
   "id": "34aa5f60",
   "metadata": {
    "execution": {
     "iopub.execute_input": "2023-11-05T14:15:48.887934Z",
     "iopub.status.busy": "2023-11-05T14:15:48.887481Z",
     "iopub.status.idle": "2023-11-05T14:15:49.244766Z",
     "shell.execute_reply": "2023-11-05T14:15:49.243599Z"
    },
    "papermill": {
     "duration": 0.720574,
     "end_time": "2023-11-05T14:15:49.247707",
     "exception": false,
     "start_time": "2023-11-05T14:15:48.527133",
     "status": "completed"
    },
    "tags": []
   },
   "outputs": [
    {
     "data": {
      "image/png": "[encoded data removed]",
      "text/plain": [
       "<Figure size 800x500 with 1 Axes>"
      ]
     },
     "metadata": {},
     "output_type": "display_data"
    }
   ],
   "source": [
    "import matplotlib.pyplot as plt\n",
    "\n",
    "pd.DataFrame(history.history).plot(figsize=(8,5))\n",
    "plt.grid(True)\n",
    "plt.gca().set_ylim(0,1) #set the vertical range to [0-1]\n",
    "plt.show()"
   ]
  },
  {
   "cell_type": "code",
   "execution_count": 16,
   "id": "44651b60",
   "metadata": {
    "execution": {
     "iopub.execute_input": "2023-11-05T14:15:50.043443Z",
     "iopub.status.busy": "2023-11-05T14:15:50.042211Z",
     "iopub.status.idle": "2023-11-05T14:15:51.088742Z",
     "shell.execute_reply": "2023-11-05T14:15:51.087096Z"
    },
    "papermill": {
     "duration": 1.481254,
     "end_time": "2023-11-05T14:15:51.091870",
     "exception": false,
     "start_time": "2023-11-05T14:15:49.610616",
     "status": "completed"
    },
    "tags": []
   },
   "outputs": [
    {
     "name": "stdout",
     "output_type": "stream",
     "text": [
      "313/313 [==============================] - 1s 3ms/step - loss: 72.1428 - accuracy: 0.8319\n"
     ]
    },
    {
     "data": {
      "text/plain": [
       "[72.1427993774414, 0.8319000005722046]"
      ]
     },
     "execution_count": 16,
     "metadata": {},
     "output_type": "execute_result"
    }
   ],
   "source": [
    "model.evaluate(X_test, y_test)"
   ]
  },
  {
   "cell_type": "code",
   "execution_count": 17,
   "id": "9e2a0d18",
   "metadata": {
    "execution": {
     "iopub.execute_input": "2023-11-05T14:15:51.857556Z",
     "iopub.status.busy": "2023-11-05T14:15:51.856148Z",
     "iopub.status.idle": "2023-11-05T14:15:52.039834Z",
     "shell.execute_reply": "2023-11-05T14:15:52.038368Z"
    },
    "papermill": {
     "duration": 0.554358,
     "end_time": "2023-11-05T14:15:52.042633",
     "exception": false,
     "start_time": "2023-11-05T14:15:51.488275",
     "status": "completed"
    },
    "tags": []
   },
   "outputs": [
    {
     "name": "stdout",
     "output_type": "stream",
     "text": [
      "1/1 [==============================] - 0s 117ms/step\n"
     ]
    },
    {
     "data": {
      "text/plain": [
       "array([[0., 0., 0., 0., 0., 0., 0., 0., 0., 1.],\n",
       "       [0., 0., 1., 0., 0., 0., 0., 0., 0., 0.],\n",
       "       [0., 1., 0., 0., 0., 0., 0., 0., 0., 0.]], dtype=float32)"
      ]
     },
     "execution_count": 17,
     "metadata": {},
     "output_type": "execute_result"
    }
   ],
   "source": [
    "X_new = X_test[:3]\n",
    "y_proba = model.predict(X_new)\n",
    "y_proba.round(2)"
   ]
  },
  {
   "cell_type": "code",
   "execution_count": 18,
   "id": "bdd0125c",
   "metadata": {
    "execution": {
     "iopub.execute_input": "2023-11-05T14:15:52.776940Z",
     "iopub.status.busy": "2023-11-05T14:15:52.775545Z",
     "iopub.status.idle": "2023-11-05T14:15:52.784389Z",
     "shell.execute_reply": "2023-11-05T14:15:52.783397Z"
    },
    "papermill": {
     "duration": 0.378107,
     "end_time": "2023-11-05T14:15:52.786792",
     "exception": false,
     "start_time": "2023-11-05T14:15:52.408685",
     "status": "completed"
    },
    "tags": []
   },
   "outputs": [
    {
     "data": {
      "text/plain": [
       "array([9, 2, 1])"
      ]
     },
     "execution_count": 18,
     "metadata": {},
     "output_type": "execute_result"
    }
   ],
   "source": [
    "y_pred = np.argmax(y_proba, axis=1)\n",
    "y_pred"
   ]
  },
  {
   "cell_type": "code",
   "execution_count": 19,
   "id": "9a44f12e",
   "metadata": {
    "execution": {
     "iopub.execute_input": "2023-11-05T14:15:53.509051Z",
     "iopub.status.busy": "2023-11-05T14:15:53.508628Z",
     "iopub.status.idle": "2023-11-05T14:15:53.516246Z",
     "shell.execute_reply": "2023-11-05T14:15:53.515111Z"
    },
    "papermill": {
     "duration": 0.370236,
     "end_time": "2023-11-05T14:15:53.518640",
     "exception": false,
     "start_time": "2023-11-05T14:15:53.148404",
     "status": "completed"
    },
    "tags": []
   },
   "outputs": [
    {
     "data": {
      "text/plain": [
       "array(['Ankle', 'Pullover', 'Trouser'], dtype='<U11')"
      ]
     },
     "execution_count": 19,
     "metadata": {},
     "output_type": "execute_result"
    }
   ],
   "source": [
    "np.array(class_names)[y_pred]\n"
   ]
  },
  {
   "cell_type": "code",
   "execution_count": 20,
   "id": "1c167dc9",
   "metadata": {
    "execution": {
     "iopub.execute_input": "2023-11-05T14:15:54.306401Z",
     "iopub.status.busy": "2023-11-05T14:15:54.305262Z",
     "iopub.status.idle": "2023-11-05T14:15:54.312088Z",
     "shell.execute_reply": "2023-11-05T14:15:54.311077Z"
    },
    "papermill": {
     "duration": 0.370383,
     "end_time": "2023-11-05T14:15:54.314483",
     "exception": false,
     "start_time": "2023-11-05T14:15:53.944100",
     "status": "completed"
    },
    "tags": []
   },
   "outputs": [
    {
     "data": {
      "text/plain": [
       "array([9, 2, 1], dtype=uint8)"
      ]
     },
     "execution_count": 20,
     "metadata": {},
     "output_type": "execute_result"
    }
   ],
   "source": [
    "y_new = y_test[:3]\n",
    "y_new"
   ]
  },
  {
   "cell_type": "markdown",
   "id": "1eb521e4",
   "metadata": {
    "papermill": {
     "duration": 0.359277,
     "end_time": "2023-11-05T14:15:55.034556",
     "exception": false,
     "start_time": "2023-11-05T14:15:54.675279",
     "status": "completed"
    },
    "tags": []
   },
   "source": [
    "## Regression"
   ]
  },
  {
   "cell_type": "code",
   "execution_count": 21,
   "id": "a1ba59e9",
   "metadata": {
    "execution": {
     "iopub.execute_input": "2023-11-05T14:15:55.763190Z",
     "iopub.status.busy": "2023-11-05T14:15:55.762079Z",
     "iopub.status.idle": "2023-11-05T14:15:57.180548Z",
     "shell.execute_reply": "2023-11-05T14:15:57.179299Z"
    },
    "papermill": {
     "duration": 1.787775,
     "end_time": "2023-11-05T14:15:57.183357",
     "exception": false,
     "start_time": "2023-11-05T14:15:55.395582",
     "status": "completed"
    },
    "tags": []
   },
   "outputs": [],
   "source": [
    "from sklearn.datasets import fetch_california_housing\n",
    "from sklearn.model_selection import train_test_split\n",
    "from sklearn.preprocessing import StandardScaler"
   ]
  },
  {
   "cell_type": "code",
   "execution_count": 22,
   "id": "27890e26",
   "metadata": {
    "execution": {
     "iopub.execute_input": "2023-11-05T14:15:57.967332Z",
     "iopub.status.busy": "2023-11-05T14:15:57.965897Z",
     "iopub.status.idle": "2023-11-05T14:15:59.529897Z",
     "shell.execute_reply": "2023-11-05T14:15:59.528697Z"
    },
    "papermill": {
     "duration": 1.99104,
     "end_time": "2023-11-05T14:15:59.532830",
     "exception": false,
     "start_time": "2023-11-05T14:15:57.541790",
     "status": "completed"
    },
    "tags": []
   },
   "outputs": [],
   "source": [
    "housing = fetch_california_housing()"
   ]
  },
  {
   "cell_type": "code",
   "execution_count": 23,
   "id": "cfb67cf3",
   "metadata": {
    "execution": {
     "iopub.execute_input": "2023-11-05T14:16:00.281865Z",
     "iopub.status.busy": "2023-11-05T14:16:00.281032Z",
     "iopub.status.idle": "2023-11-05T14:16:00.301948Z",
     "shell.execute_reply": "2023-11-05T14:16:00.300877Z"
    },
    "papermill": {
     "duration": 0.401897,
     "end_time": "2023-11-05T14:16:00.304699",
     "exception": false,
     "start_time": "2023-11-05T14:15:59.902802",
     "status": "completed"
    },
    "tags": []
   },
   "outputs": [],
   "source": [
    "X_train_full, X_test, y_train_full, y_test = train_test_split(\n",
    "    housing.data, housing.target)\n",
    "X_train, X_valid, y_train, y_valid = train_test_split(\n",
    "    X_train_full, y_train_full)\n",
    "\n",
    "scaler = StandardScaler()\n",
    "X_train = scaler.fit_transform(X_train)\n",
    "X_valid = scaler.transform(X_valid)\n",
    "X_test = scaler.transform(X_test)"
   ]
  },
  {
   "cell_type": "code",
   "execution_count": 24,
   "id": "d34961af",
   "metadata": {
    "collapsed": true,
    "execution": {
     "iopub.execute_input": "2023-11-05T14:16:01.032373Z",
     "iopub.status.busy": "2023-11-05T14:16:01.031521Z",
     "iopub.status.idle": "2023-11-05T14:16:16.795754Z",
     "shell.execute_reply": "2023-11-05T14:16:16.794584Z"
    },
    "jupyter": {
     "outputs_hidden": true
    },
    "papermill": {
     "duration": 16.132997,
     "end_time": "2023-11-05T14:16:16.798677",
     "exception": false,
     "start_time": "2023-11-05T14:16:00.665680",
     "status": "completed"
    },
    "tags": []
   },
   "outputs": [
    {
     "name": "stdout",
     "output_type": "stream",
     "text": [
      "Epoch 1/20\n",
      "363/363 [==============================] - 1s 2ms/step - loss: 0.9383 - val_loss: 2.5179\n",
      "Epoch 2/20\n",
      "363/363 [==============================] - 1s 3ms/step - loss: 2.3695 - val_loss: 0.5904\n",
      "Epoch 3/20\n",
      "363/363 [==============================] - 1s 2ms/step - loss: 0.5211 - val_loss: 0.4652\n",
      "Epoch 4/20\n",
      "363/363 [==============================] - 1s 2ms/step - loss: 0.4577 - val_loss: 0.4518\n",
      "Epoch 5/20\n",
      "363/363 [==============================] - 1s 2ms/step - loss: 0.4366 - val_loss: 0.4313\n",
      "Epoch 6/20\n",
      "363/363 [==============================] - 1s 2ms/step - loss: 0.4226 - val_loss: 0.4199\n",
      "Epoch 7/20\n",
      "363/363 [==============================] - 1s 2ms/step - loss: 0.4119 - val_loss: 0.4109\n",
      "Epoch 8/20\n",
      "363/363 [==============================] - 1s 2ms/step - loss: 0.4249 - val_loss: 0.4101\n",
      "Epoch 9/20\n",
      "363/363 [==============================] - 1s 2ms/step - loss: 0.4041 - val_loss: 0.3985\n",
      "Epoch 10/20\n",
      "363/363 [==============================] - 1s 2ms/step - loss: 0.4000 - val_loss: 0.4003\n",
      "Epoch 11/20\n",
      "363/363 [==============================] - 1s 2ms/step - loss: 0.3909 - val_loss: 0.3933\n",
      "Epoch 12/20\n",
      "363/363 [==============================] - 1s 2ms/step - loss: 0.3853 - val_loss: 0.3849\n",
      "Epoch 13/20\n",
      "363/363 [==============================] - 1s 2ms/step - loss: 0.3852 - val_loss: 0.3824\n",
      "Epoch 14/20\n",
      "363/363 [==============================] - 1s 2ms/step - loss: 0.3782 - val_loss: 0.3805\n",
      "Epoch 15/20\n",
      "363/363 [==============================] - 1s 2ms/step - loss: 0.3959 - val_loss: 0.3853\n",
      "Epoch 16/20\n",
      "363/363 [==============================] - 1s 2ms/step - loss: 0.3766 - val_loss: 0.3761\n",
      "Epoch 17/20\n",
      "363/363 [==============================] - 1s 2ms/step - loss: 0.3730 - val_loss: 0.3708\n",
      "Epoch 18/20\n",
      "363/363 [==============================] - 1s 2ms/step - loss: 0.3666 - val_loss: 0.3647\n",
      "Epoch 19/20\n",
      "363/363 [==============================] - 1s 2ms/step - loss: 0.3637 - val_loss: 0.3683\n",
      "Epoch 20/20\n",
      "363/363 [==============================] - 1s 2ms/step - loss: 0.3629 - val_loss: 0.3662\n",
      "162/162 [==============================] - 0s 1ms/step - loss: 0.3575\n",
      "1/1 [==============================] - 0s 57ms/step\n"
     ]
    }
   ],
   "source": [
    "model = keras.models.Sequential([\n",
    "    keras.layers.Dense(30, activation=\"relu\", input_shape=X_train.shape[1:]),\n",
    "    keras.layers.Dense(1)\n",
    "])\n",
    "model.compile(loss=\"mean_squared_error\", optimizer=\"sgd\")\n",
    "history = model.fit(X_train, y_train, epochs=20,\n",
    "                    validation_data=(X_valid, y_valid))\n",
    "mse_test = model.evaluate(X_test, y_test)\n",
    "X_new = X_test[:3] # pretend these are new instances\n",
    "y_pred = model.predict(X_new)"
   ]
  },
  {
   "cell_type": "markdown",
   "id": "a7174da6",
   "metadata": {
    "papermill": {
     "duration": 0.386446,
     "end_time": "2023-11-05T14:16:17.595289",
     "exception": false,
     "start_time": "2023-11-05T14:16:17.208843",
     "status": "completed"
    },
    "tags": []
   },
   "source": []
  },
  {
   "cell_type": "markdown",
   "id": "0e92d019",
   "metadata": {
    "papermill": {
     "duration": 0.383857,
     "end_time": "2023-11-05T14:16:18.426630",
     "exception": false,
     "start_time": "2023-11-05T14:16:18.042773",
     "status": "completed"
    },
    "tags": []
   },
   "source": [
    "# Using the Functional API to build complex models"
   ]
  },
  {
   "attachments": {
    "9c7b6c13-4824-4348-9037-caa834b6fe89.png": {
     "image/png": "[encoded data removed]"
    }
   },
   "cell_type": "markdown",
   "id": "0efb8e15",
   "metadata": {
    "papermill": {
     "duration": 0.381252,
     "end_time": "2023-11-05T14:16:19.189069",
     "exception": false,
     "start_time": "2023-11-05T14:16:18.807817",
     "status": "completed"
    },
    "tags": []
   },
   "source": [
    "<img src=\"attachment:9c7b6c13-4824-4348-9037-caa834b6fe89.png\" alt=\"drawing\" width=\"400\"/>\n"
   ]
  },
  {
   "cell_type": "code",
   "execution_count": 25,
   "id": "367bf504",
   "metadata": {
    "execution": {
     "iopub.execute_input": "2023-11-05T14:16:19.954653Z",
     "iopub.status.busy": "2023-11-05T14:16:19.954224Z",
     "iopub.status.idle": "2023-11-05T14:16:20.010955Z",
     "shell.execute_reply": "2023-11-05T14:16:20.009784Z"
    },
    "papermill": {
     "duration": 0.443795,
     "end_time": "2023-11-05T14:16:20.013816",
     "exception": false,
     "start_time": "2023-11-05T14:16:19.570021",
     "status": "completed"
    },
    "tags": []
   },
   "outputs": [],
   "source": [
    "input_ = keras.layers.Input(shape=X_train.shape[1:])\n",
    "hidden1 = keras.layers.Dense(30, activation=\"relu\")(input_)\n",
    "hidden2 = keras.layers.Dense(30, activation=\"relu\")(hidden1)\n",
    "concat = keras.layers.Concatenate()([input_, hidden2])\n",
    "output = keras.layers.Dense(1)(concat)\n",
    "model = keras.Model(inputs=[input_], outputs=[output])"
   ]
  },
  {
   "attachments": {
    "b58efef9-4f9d-4ac1-8926-4d31957a3a6c.png": {
     "image/png": "[encoded data removed]"
    }
   },
   "cell_type": "markdown",
   "id": "80d26a21",
   "metadata": {
    "papermill": {
     "duration": 0.38062,
     "end_time": "2023-11-05T14:16:20.842698",
     "exception": false,
     "start_time": "2023-11-05T14:16:20.462078",
     "status": "completed"
    },
    "tags": []
   },
   "source": [
    "<img src=\"attachment:b58efef9-4f9d-4ac1-8926-4d31957a3a6c.png\" alt=\"drawing\" width=\"400\"/>"
   ]
  },
  {
   "cell_type": "code",
   "execution_count": 26,
   "id": "2cdea9e6",
   "metadata": {
    "execution": {
     "iopub.execute_input": "2023-11-05T14:16:21.609370Z",
     "iopub.status.busy": "2023-11-05T14:16:21.608964Z",
     "iopub.status.idle": "2023-11-05T14:16:21.666965Z",
     "shell.execute_reply": "2023-11-05T14:16:21.665854Z"
    },
    "papermill": {
     "duration": 0.443285,
     "end_time": "2023-11-05T14:16:21.669590",
     "exception": false,
     "start_time": "2023-11-05T14:16:21.226305",
     "status": "completed"
    },
    "tags": []
   },
   "outputs": [],
   "source": [
    "input_A = keras.layers.Input(shape=[5], name=\"wide_input\")\n",
    "input_B = keras.layers.Input(shape=[6], name=\"deep_input\")\n",
    "hidden1 = keras.layers.Dense(30, activation=\"relu\")(input_B)\n",
    "hidden2 = keras.layers.Dense(30, activation=\"relu\")(hidden1)\n",
    "concat = keras.layers.concatenate([input_A, hidden2])\n",
    "output = keras.layers.Dense(1, name=\"output\")(concat)\n",
    "model = keras.Model(inputs=[input_A, input_B], outputs=[output])"
   ]
  },
  {
   "cell_type": "code",
   "execution_count": 27,
   "id": "396ea798",
   "metadata": {
    "collapsed": true,
    "execution": {
     "iopub.execute_input": "2023-11-05T14:16:22.443221Z",
     "iopub.status.busy": "2023-11-05T14:16:22.442457Z",
     "iopub.status.idle": "2023-11-05T14:16:43.983265Z",
     "shell.execute_reply": "2023-11-05T14:16:43.982003Z"
    },
    "jupyter": {
     "outputs_hidden": true
    },
    "papermill": {
     "duration": 21.933987,
     "end_time": "2023-11-05T14:16:43.986067",
     "exception": false,
     "start_time": "2023-11-05T14:16:22.052080",
     "status": "completed"
    },
    "tags": []
   },
   "outputs": [
    {
     "name": "stdout",
     "output_type": "stream",
     "text": [
      "Epoch 1/20\n",
      "363/363 [==============================] - 2s 3ms/step - loss: 0.9416 - val_loss: 0.8664\n",
      "Epoch 2/20\n",
      "363/363 [==============================] - 1s 2ms/step - loss: 0.8868 - val_loss: 0.8103\n",
      "Epoch 3/20\n",
      "363/363 [==============================] - 1s 2ms/step - loss: 0.7941 - val_loss: 0.5057\n",
      "Epoch 4/20\n",
      "363/363 [==============================] - 1s 2ms/step - loss: 0.4941 - val_loss: 0.4670\n",
      "Epoch 5/20\n",
      "363/363 [==============================] - 1s 2ms/step - loss: 0.4650 - val_loss: 0.4444\n",
      "Epoch 6/20\n",
      "363/363 [==============================] - 1s 2ms/step - loss: 0.4498 - val_loss: 0.4303\n",
      "Epoch 7/20\n",
      "363/363 [==============================] - 1s 2ms/step - loss: 0.4367 - val_loss: 0.4279\n",
      "Epoch 8/20\n",
      "363/363 [==============================] - 1s 3ms/step - loss: 0.4230 - val_loss: 0.4037\n",
      "Epoch 9/20\n",
      "363/363 [==============================] - 1s 2ms/step - loss: 0.4178 - val_loss: 0.4029\n",
      "Epoch 10/20\n",
      "363/363 [==============================] - 1s 2ms/step - loss: 0.4039 - val_loss: 0.3865\n",
      "Epoch 11/20\n",
      "363/363 [==============================] - 1s 3ms/step - loss: 0.3959 - val_loss: 0.3916\n",
      "Epoch 12/20\n",
      "363/363 [==============================] - 1s 2ms/step - loss: 0.3895 - val_loss: 0.3938\n",
      "Epoch 13/20\n",
      "363/363 [==============================] - 1s 3ms/step - loss: 0.3803 - val_loss: 0.3735\n",
      "Epoch 14/20\n",
      "363/363 [==============================] - 1s 2ms/step - loss: 0.3706 - val_loss: 0.3682\n",
      "Epoch 15/20\n",
      "363/363 [==============================] - 1s 2ms/step - loss: 0.3654 - val_loss: 0.3652\n",
      "Epoch 16/20\n",
      "363/363 [==============================] - 1s 2ms/step - loss: 0.3627 - val_loss: 0.3977\n",
      "Epoch 17/20\n",
      "363/363 [==============================] - 1s 2ms/step - loss: 0.3568 - val_loss: 0.3545\n",
      "Epoch 18/20\n",
      "363/363 [==============================] - 1s 2ms/step - loss: 0.3565 - val_loss: 0.3524\n",
      "Epoch 19/20\n",
      "363/363 [==============================] - 1s 2ms/step - loss: 0.3518 - val_loss: 0.3432\n",
      "Epoch 20/20\n",
      "363/363 [==============================] - 1s 2ms/step - loss: 0.3488 - val_loss: 0.3433\n",
      "162/162 [==============================] - 0s 2ms/step - loss: 0.3292\n",
      "1/1 [==============================] - 0s 71ms/step\n"
     ]
    }
   ],
   "source": [
    "model.compile(loss=\"mse\", optimizer=keras.optimizers.SGD(lr=1e-3))\n",
    "\n",
    "X_train_A, X_train_B = X_train[:, :5], X_train[:, 2:]\n",
    "X_valid_A, X_valid_B = X_valid[:, :5], X_valid[:, 2:]\n",
    "X_test_A, X_test_B = X_test[:, :5], X_test[:, 2:]\n",
    "X_new_A, X_new_B = X_test_A[:3], X_test_B[:3]\n",
    "\n",
    "history = model.fit((X_train_A, X_train_B), y_train, epochs=20,\n",
    "                    validation_data=((X_valid_A, X_valid_B), y_valid))\n",
    "mse_test = model.evaluate((X_test_A, X_test_B), y_test)\n",
    "y_pred = model.predict((X_new_A, X_new_B))"
   ]
  },
  {
   "attachments": {
    "f398b092-8caa-4fb3-ac63-e7383b96f053.png": {
     "image/png": "[encoded data removed]"
    }
   },
   "cell_type": "markdown",
   "id": "225cd665",
   "metadata": {
    "papermill": {
     "duration": 0.409015,
     "end_time": "2023-11-05T14:16:44.814942",
     "exception": false,
     "start_time": "2023-11-05T14:16:44.405927",
     "status": "completed"
    },
    "tags": []
   },
   "source": [
    "<img src=\"attachment:f398b092-8caa-4fb3-ac63-e7383b96f053.png\" alt=\"drawing\" width=\"400\"/>"
   ]
  },
  {
   "cell_type": "code",
   "execution_count": 28,
   "id": "6969cd88",
   "metadata": {
    "execution": {
     "iopub.execute_input": "2023-11-05T14:16:45.714316Z",
     "iopub.status.busy": "2023-11-05T14:16:45.712908Z",
     "iopub.status.idle": "2023-11-05T14:16:45.785763Z",
     "shell.execute_reply": "2023-11-05T14:16:45.784446Z"
    },
    "papermill": {
     "duration": 0.490869,
     "end_time": "2023-11-05T14:16:45.788683",
     "exception": false,
     "start_time": "2023-11-05T14:16:45.297814",
     "status": "completed"
    },
    "tags": []
   },
   "outputs": [],
   "source": [
    "input_A = keras.layers.Input(shape=[5], name=\"wide_input\")\n",
    "input_B = keras.layers.Input(shape=[6], name=\"deep_input\")\n",
    "hidden1 = keras.layers.Dense(30, activation=\"relu\")(input_B)\n",
    "hidden2 = keras.layers.Dense(30, activation=\"relu\")(hidden1)\n",
    "concat = keras.layers.concatenate([input_A, hidden2])\n",
    "output = keras.layers.Dense(1, name=\"main_output\")(concat)\n",
    "aux_output = keras.layers.Dense(1, name=\"aux_output\")(hidden2)\n",
    "model = keras.Model(inputs=[input_A, input_B], outputs=[output, aux_output])\n",
    "model.compile(loss=[\"mse\", \"mse\"], loss_weights=[0.9, 0.1], optimizer=\"sgd\")"
   ]
  },
  {
   "cell_type": "code",
   "execution_count": 29,
   "id": "8263c067",
   "metadata": {
    "collapsed": true,
    "execution": {
     "iopub.execute_input": "2023-11-05T14:16:46.625243Z",
     "iopub.status.busy": "2023-11-05T14:16:46.624845Z",
     "iopub.status.idle": "2023-11-05T14:17:09.006636Z",
     "shell.execute_reply": "2023-11-05T14:17:09.005449Z"
    },
    "jupyter": {
     "outputs_hidden": true
    },
    "papermill": {
     "duration": 22.804604,
     "end_time": "2023-11-05T14:17:09.009320",
     "exception": false,
     "start_time": "2023-11-05T14:16:46.204716",
     "status": "completed"
    },
    "tags": []
   },
   "outputs": [
    {
     "name": "stdout",
     "output_type": "stream",
     "text": [
      "Epoch 1/20\n",
      "363/363 [==============================] - 2s 4ms/step - loss: 1.0997 - main_output_loss: 0.9799 - aux_output_loss: 2.1780 - val_loss: 2.6205 - val_main_output_loss: 2.7755 - val_aux_output_loss: 1.2255\n",
      "Epoch 2/20\n",
      "363/363 [==============================] - 1s 3ms/step - loss: 1.6601 - main_output_loss: 1.7251 - aux_output_loss: 1.0751 - val_loss: 1.4705 - val_main_output_loss: 1.3768 - val_aux_output_loss: 2.3144\n",
      "Epoch 3/20\n",
      "363/363 [==============================] - 1s 3ms/step - loss: 1.4352 - main_output_loss: 1.3764 - aux_output_loss: 1.9640 - val_loss: 0.5705 - val_main_output_loss: 0.5269 - val_aux_output_loss: 0.9627\n",
      "Epoch 4/20\n",
      "363/363 [==============================] - 1s 3ms/step - loss: 0.5457 - main_output_loss: 0.5034 - aux_output_loss: 0.9257 - val_loss: 0.5246 - val_main_output_loss: 0.4879 - val_aux_output_loss: 0.8541\n",
      "Epoch 5/20\n",
      "363/363 [==============================] - 1s 4ms/step - loss: 0.5007 - main_output_loss: 0.4635 - aux_output_loss: 0.8357 - val_loss: 0.4994 - val_main_output_loss: 0.4666 - val_aux_output_loss: 0.7947\n",
      "Epoch 6/20\n",
      "363/363 [==============================] - 1s 3ms/step - loss: 0.5121 - main_output_loss: 0.4815 - aux_output_loss: 0.7878 - val_loss: 0.4732 - val_main_output_loss: 0.4430 - val_aux_output_loss: 0.7451\n",
      "Epoch 7/20\n",
      "363/363 [==============================] - 1s 3ms/step - loss: 0.4704 - main_output_loss: 0.4401 - aux_output_loss: 0.7436 - val_loss: 0.4635 - val_main_output_loss: 0.4357 - val_aux_output_loss: 0.7131\n",
      "Epoch 8/20\n",
      "363/363 [==============================] - 1s 3ms/step - loss: 0.4589 - main_output_loss: 0.4305 - aux_output_loss: 0.7140 - val_loss: 0.4504 - val_main_output_loss: 0.4240 - val_aux_output_loss: 0.6880\n",
      "Epoch 9/20\n",
      "363/363 [==============================] - 1s 3ms/step - loss: 0.4500 - main_output_loss: 0.4233 - aux_output_loss: 0.6908 - val_loss: 0.4419 - val_main_output_loss: 0.4175 - val_aux_output_loss: 0.6615\n",
      "Epoch 10/20\n",
      "363/363 [==============================] - 1s 3ms/step - loss: 0.4375 - main_output_loss: 0.4119 - aux_output_loss: 0.6680 - val_loss: 0.4271 - val_main_output_loss: 0.4035 - val_aux_output_loss: 0.6396\n",
      "Epoch 11/20\n",
      "363/363 [==============================] - 1s 3ms/step - loss: 0.4290 - main_output_loss: 0.4046 - aux_output_loss: 0.6487 - val_loss: 0.4203 - val_main_output_loss: 0.3974 - val_aux_output_loss: 0.6261\n",
      "Epoch 12/20\n",
      "363/363 [==============================] - 1s 3ms/step - loss: 0.4222 - main_output_loss: 0.3987 - aux_output_loss: 0.6339 - val_loss: 0.4257 - val_main_output_loss: 0.4043 - val_aux_output_loss: 0.6179\n",
      "Epoch 13/20\n",
      "363/363 [==============================] - 1s 3ms/step - loss: 0.4150 - main_output_loss: 0.3919 - aux_output_loss: 0.6231 - val_loss: 0.4097 - val_main_output_loss: 0.3888 - val_aux_output_loss: 0.5977\n",
      "Epoch 14/20\n",
      "363/363 [==============================] - 1s 3ms/step - loss: 0.4069 - main_output_loss: 0.3843 - aux_output_loss: 0.6111 - val_loss: 0.3988 - val_main_output_loss: 0.3775 - val_aux_output_loss: 0.5901\n",
      "Epoch 15/20\n",
      "363/363 [==============================] - 1s 3ms/step - loss: 0.4029 - main_output_loss: 0.3807 - aux_output_loss: 0.6032 - val_loss: 0.3983 - val_main_output_loss: 0.3774 - val_aux_output_loss: 0.5864\n",
      "Epoch 16/20\n",
      "363/363 [==============================] - 1s 3ms/step - loss: 0.3984 - main_output_loss: 0.3762 - aux_output_loss: 0.5978 - val_loss: 0.3896 - val_main_output_loss: 0.3688 - val_aux_output_loss: 0.5769\n",
      "Epoch 17/20\n",
      "363/363 [==============================] - 1s 3ms/step - loss: 0.3927 - main_output_loss: 0.3708 - aux_output_loss: 0.5902 - val_loss: 0.3922 - val_main_output_loss: 0.3722 - val_aux_output_loss: 0.5728\n",
      "Epoch 18/20\n",
      "363/363 [==============================] - 1s 3ms/step - loss: 0.3887 - main_output_loss: 0.3670 - aux_output_loss: 0.5844 - val_loss: 0.3831 - val_main_output_loss: 0.3628 - val_aux_output_loss: 0.5662\n",
      "Epoch 19/20\n",
      "363/363 [==============================] - 1s 3ms/step - loss: 0.3888 - main_output_loss: 0.3675 - aux_output_loss: 0.5804 - val_loss: 0.3824 - val_main_output_loss: 0.3624 - val_aux_output_loss: 0.5618\n",
      "Epoch 20/20\n",
      "363/363 [==============================] - 1s 3ms/step - loss: 0.3836 - main_output_loss: 0.3622 - aux_output_loss: 0.5763 - val_loss: 0.3991 - val_main_output_loss: 0.3798 - val_aux_output_loss: 0.5734\n",
      "162/162 [==============================] - 0s 2ms/step - loss: 0.3870 - main_output_loss: 0.3660 - aux_output_loss: 0.5765\n",
      "1/1 [==============================] - 0s 75ms/step\n"
     ]
    }
   ],
   "source": [
    "model.compile(loss=[\"mse\", \"mse\"], loss_weights=[0.9, 0.1], optimizer=\"sgd\")\n",
    "history = model.fit(\n",
    "    [X_train_A, X_train_B], [y_train, y_train], epochs=20,\n",
    "    validation_data=([X_valid_A, X_valid_B], [y_valid, y_valid]))\n",
    "total_loss, main_loss, aux_loss = model.evaluate(\n",
    "    [X_test_A, X_test_B], [y_test, y_test])\n",
    "y_pred_main, y_pred_aux = model.predict([X_new_A, X_new_B])"
   ]
  },
  {
   "cell_type": "markdown",
   "id": "3b85de61",
   "metadata": {
    "papermill": {
     "duration": 0.447916,
     "end_time": "2023-11-05T14:17:09.910860",
     "exception": false,
     "start_time": "2023-11-05T14:17:09.462944",
     "status": "completed"
    },
    "tags": []
   },
   "source": [
    "# Using the Subclassing API to Build Dynamic Models"
   ]
  },
  {
   "cell_type": "code",
   "execution_count": 30,
   "id": "513cc9c9",
   "metadata": {
    "execution": {
     "iopub.execute_input": "2023-11-05T14:17:10.877975Z",
     "iopub.status.busy": "2023-11-05T14:17:10.877088Z",
     "iopub.status.idle": "2023-11-05T14:17:10.895854Z",
     "shell.execute_reply": "2023-11-05T14:17:10.894732Z"
    },
    "papermill": {
     "duration": 0.537988,
     "end_time": "2023-11-05T14:17:10.898715",
     "exception": false,
     "start_time": "2023-11-05T14:17:10.360727",
     "status": "completed"
    },
    "tags": []
   },
   "outputs": [],
   "source": [
    "class WideAndDeepModel(keras.Model):\n",
    "    def __init__(self, units=30, activation=\"relu\", **kwargs):\n",
    "        super().__init__(**kwargs) # handles standard args (e.g., name)\n",
    "        self.hidden1 = keras.layers.Dense(units, activation=activation)\n",
    "        self.hidden2 = keras.layers.Dense(units, activation=activation)\n",
    "        self.main_output = keras.layers.Dense(1)\n",
    "        self.aux_output = keras.layers.Dense(1)\n",
    "\n",
    "    def call(self, inputs):\n",
    "        input_A, input_B = inputs\n",
    "        hidden1 = self.hidden1(input_B)\n",
    "        hidden2 = self.hidden2(hidden1)\n",
    "        concat = keras.layers.concatenate([input_A, hidden2])\n",
    "        main_output = self.main_output(concat)\n",
    "        aux_output = self.aux_output(hidden2)\n",
    "        return main_output, aux_output\n",
    "\n",
    "model_subclassing = WideAndDeepModel()"
   ]
  },
  {
   "cell_type": "markdown",
   "id": "aa0dc110",
   "metadata": {
    "papermill": {
     "duration": 0.453864,
     "end_time": "2023-11-05T14:17:11.802713",
     "exception": false,
     "start_time": "2023-11-05T14:17:11.348849",
     "status": "completed"
    },
    "tags": []
   },
   "source": [
    "## Savind and Restoring a Model"
   ]
  },
  {
   "cell_type": "code",
   "execution_count": 31,
   "id": "5d15b0f4",
   "metadata": {
    "execution": {
     "iopub.execute_input": "2023-11-05T14:17:12.705836Z",
     "iopub.status.busy": "2023-11-05T14:17:12.705144Z",
     "iopub.status.idle": "2023-11-05T14:17:12.749189Z",
     "shell.execute_reply": "2023-11-05T14:17:12.748177Z"
    },
    "papermill": {
     "duration": 0.49929,
     "end_time": "2023-11-05T14:17:12.751742",
     "exception": false,
     "start_time": "2023-11-05T14:17:12.252452",
     "status": "completed"
    },
    "tags": []
   },
   "outputs": [],
   "source": [
    "model = keras.models.Sequential([\n",
    "    keras.layers.Dense(30, activation=\"relu\", input_shape=X_train.shape[1:]),\n",
    "    keras.layers.Dense(1)\n",
    "])\n",
    "model.compile(loss=\"mean_squared_error\", optimizer=\"sgd\")"
   ]
  },
  {
   "cell_type": "code",
   "execution_count": 32,
   "id": "1fc31684",
   "metadata": {
    "execution": {
     "iopub.execute_input": "2023-11-05T14:17:13.715832Z",
     "iopub.status.busy": "2023-11-05T14:17:13.715106Z",
     "iopub.status.idle": "2023-11-05T14:17:13.738885Z",
     "shell.execute_reply": "2023-11-05T14:17:13.737564Z"
    },
    "papermill": {
     "duration": 0.542894,
     "end_time": "2023-11-05T14:17:13.741668",
     "exception": false,
     "start_time": "2023-11-05T14:17:13.198774",
     "status": "completed"
    },
    "tags": []
   },
   "outputs": [],
   "source": [
    "model.save(\"my_keras_model.h5\")"
   ]
  },
  {
   "cell_type": "code",
   "execution_count": 33,
   "id": "bb38478e",
   "metadata": {
    "execution": {
     "iopub.execute_input": "2023-11-05T14:17:14.633002Z",
     "iopub.status.busy": "2023-11-05T14:17:14.632614Z",
     "iopub.status.idle": "2023-11-05T14:17:14.695161Z",
     "shell.execute_reply": "2023-11-05T14:17:14.694080Z"
    },
    "papermill": {
     "duration": 0.512276,
     "end_time": "2023-11-05T14:17:14.698116",
     "exception": false,
     "start_time": "2023-11-05T14:17:14.185840",
     "status": "completed"
    },
    "tags": []
   },
   "outputs": [],
   "source": [
    "model = keras.models.load_model(\"my_keras_model.h5\")"
   ]
  },
  {
   "cell_type": "markdown",
   "id": "922855f7",
   "metadata": {
    "papermill": {
     "duration": 0.444639,
     "end_time": "2023-11-05T14:17:15.587408",
     "exception": false,
     "start_time": "2023-11-05T14:17:15.142769",
     "status": "completed"
    },
    "tags": []
   },
   "source": [
    "# Using Callbacks"
   ]
  },
  {
   "cell_type": "code",
   "execution_count": 34,
   "id": "bbcfea5d",
   "metadata": {
    "collapsed": true,
    "execution": {
     "iopub.execute_input": "2023-11-05T14:17:16.481218Z",
     "iopub.status.busy": "2023-11-05T14:17:16.480741Z",
     "iopub.status.idle": "2023-11-05T14:17:22.542716Z",
     "shell.execute_reply": "2023-11-05T14:17:22.541538Z"
    },
    "jupyter": {
     "outputs_hidden": true
    },
    "papermill": {
     "duration": 6.514669,
     "end_time": "2023-11-05T14:17:22.545343",
     "exception": false,
     "start_time": "2023-11-05T14:17:16.030674",
     "status": "completed"
    },
    "tags": []
   },
   "outputs": [
    {
     "name": "stdout",
     "output_type": "stream",
     "text": [
      "Epoch 1/10\n",
      "363/363 [==============================] - 1s 2ms/step - loss: 1.2243\n",
      "Epoch 2/10\n",
      "363/363 [==============================] - 1s 2ms/step - loss: 41.1760\n",
      "Epoch 3/10\n",
      "363/363 [==============================] - 1s 2ms/step - loss: nan\n",
      "Epoch 4/10\n",
      "363/363 [==============================] - 1s 2ms/step - loss: nan\n",
      "Epoch 5/10\n",
      "363/363 [==============================] - 1s 2ms/step - loss: nan\n",
      "Epoch 6/10\n",
      "363/363 [==============================] - 1s 2ms/step - loss: nan\n",
      "Epoch 7/10\n",
      "363/363 [==============================] - 1s 2ms/step - loss: nan\n",
      "Epoch 8/10\n",
      "363/363 [==============================] - 1s 2ms/step - loss: nan\n",
      "Epoch 9/10\n",
      "363/363 [==============================] - 1s 2ms/step - loss: nan\n",
      "Epoch 10/10\n",
      "363/363 [==============================] - 1s 2ms/step - loss: nan\n"
     ]
    }
   ],
   "source": [
    "checkpoint_cb = keras.callbacks.ModelCheckpoint(\"my_keras_model.h5\")\n",
    "history = model.fit(X_train, y_train, epochs=10, callbacks=[checkpoint_cb])"
   ]
  },
  {
   "cell_type": "markdown",
   "id": "91ed7453",
   "metadata": {
    "papermill": {
     "duration": 0.46223,
     "end_time": "2023-11-05T14:17:23.535130",
     "exception": false,
     "start_time": "2023-11-05T14:17:23.072900",
     "status": "completed"
    },
    "tags": []
   },
   "source": [
    "## Implementing Early Stopping"
   ]
  },
  {
   "cell_type": "code",
   "execution_count": 35,
   "id": "52963d41",
   "metadata": {
    "collapsed": true,
    "execution": {
     "iopub.execute_input": "2023-11-05T14:17:24.457161Z",
     "iopub.status.busy": "2023-11-05T14:17:24.456742Z",
     "iopub.status.idle": "2023-11-05T14:17:34.810165Z",
     "shell.execute_reply": "2023-11-05T14:17:34.808676Z"
    },
    "jupyter": {
     "outputs_hidden": true
    },
    "papermill": {
     "duration": 10.815836,
     "end_time": "2023-11-05T14:17:34.813009",
     "exception": false,
     "start_time": "2023-11-05T14:17:23.997173",
     "status": "completed"
    },
    "tags": []
   },
   "outputs": [
    {
     "name": "stdout",
     "output_type": "stream",
     "text": [
      "Epoch 1/10\n",
      "363/363 [==============================] - 1s 2ms/step - loss: nan - val_loss: nan\n",
      "Epoch 2/10\n",
      "363/363 [==============================] - 1s 3ms/step - loss: nan - val_loss: nan\n",
      "Epoch 3/10\n",
      "363/363 [==============================] - 1s 2ms/step - loss: nan - val_loss: nan\n",
      "Epoch 4/10\n",
      "363/363 [==============================] - 1s 2ms/step - loss: nan - val_loss: nan\n",
      "Epoch 5/10\n",
      "363/363 [==============================] - 1s 2ms/step - loss: nan - val_loss: nan\n",
      "Epoch 6/10\n",
      "363/363 [==============================] - 1s 2ms/step - loss: nan - val_loss: nan\n",
      "Epoch 7/10\n",
      "363/363 [==============================] - 1s 3ms/step - loss: nan - val_loss: nan\n",
      "Epoch 8/10\n",
      "363/363 [==============================] - 1s 2ms/step - loss: nan - val_loss: nan\n",
      "Epoch 9/10\n",
      "363/363 [==============================] - 1s 2ms/step - loss: nan - val_loss: nan\n",
      "Epoch 10/10\n",
      "363/363 [==============================] - 1s 3ms/step - loss: nan - val_loss: nan\n"
     ]
    }
   ],
   "source": [
    "checkpoint_cb = keras.callbacks.ModelCheckpoint(\"my_keras_model.h5\",\n",
    "                                                save_best_only=True)\n",
    "history = model.fit(X_train, y_train, epochs=10,\n",
    "                    validation_data=(X_valid, y_valid),\n",
    "                    callbacks=[checkpoint_cb])\n",
    "model = keras.models.load_model(\"my_keras_model.h5\") # roll back to best model"
   ]
  },
  {
   "cell_type": "code",
   "execution_count": 36,
   "id": "94491080",
   "metadata": {
    "collapsed": true,
    "execution": {
     "iopub.execute_input": "2023-11-05T14:17:35.823775Z",
     "iopub.status.busy": "2023-11-05T14:17:35.823349Z",
     "iopub.status.idle": "2023-11-05T14:17:43.613784Z",
     "shell.execute_reply": "2023-11-05T14:17:43.612848Z"
    },
    "jupyter": {
     "outputs_hidden": true
    },
    "papermill": {
     "duration": 8.33149,
     "end_time": "2023-11-05T14:17:43.616164",
     "exception": false,
     "start_time": "2023-11-05T14:17:35.284674",
     "status": "completed"
    },
    "tags": []
   },
   "outputs": [
    {
     "name": "stdout",
     "output_type": "stream",
     "text": [
      "Epoch 1/100\n",
      "363/363 [==============================] - 1s 2ms/step - loss: nan - val_loss: nan\n",
      "Epoch 2/100\n",
      "363/363 [==============================] - 1s 2ms/step - loss: nan - val_loss: nan\n",
      "Epoch 3/100\n",
      "363/363 [==============================] - 1s 2ms/step - loss: nan - val_loss: nan\n",
      "Epoch 4/100\n",
      "363/363 [==============================] - 1s 2ms/step - loss: nan - val_loss: nan\n",
      "Epoch 5/100\n",
      "363/363 [==============================] - 1s 2ms/step - loss: nan - val_loss: nan\n",
      "Epoch 6/100\n",
      "363/363 [==============================] - 1s 2ms/step - loss: nan - val_loss: nan\n",
      "Epoch 7/100\n",
      "363/363 [==============================] - 1s 2ms/step - loss: nan - val_loss: nan\n",
      "Epoch 8/100\n",
      "363/363 [==============================] - 1s 2ms/step - loss: nan - val_loss: nan\n",
      "Epoch 9/100\n",
      "363/363 [==============================] - 1s 2ms/step - loss: nan - val_loss: nan\n",
      "Epoch 10/100\n",
      "363/363 [==============================] - 1s 2ms/step - loss: nan - val_loss: nan\n"
     ]
    }
   ],
   "source": [
    "early_stopping_cb = keras.callbacks.EarlyStopping(patience=10,\n",
    "                                                  restore_best_weights=True)\n",
    "history = model.fit(X_train, y_train, epochs=100,\n",
    "                    validation_data=(X_valid, y_valid),\n",
    "                    callbacks=[checkpoint_cb, early_stopping_cb])"
   ]
  },
  {
   "cell_type": "markdown",
   "id": "b50e4e21",
   "metadata": {
    "papermill": {
     "duration": 0.480566,
     "end_time": "2023-11-05T14:17:44.579346",
     "exception": false,
     "start_time": "2023-11-05T14:17:44.098780",
     "status": "completed"
    },
    "tags": []
   },
   "source": [
    "### Custom Callback"
   ]
  },
  {
   "cell_type": "code",
   "execution_count": 37,
   "id": "7aab2d3a",
   "metadata": {
    "execution": {
     "iopub.execute_input": "2023-11-05T14:17:45.551905Z",
     "iopub.status.busy": "2023-11-05T14:17:45.551456Z",
     "iopub.status.idle": "2023-11-05T14:17:45.557327Z",
     "shell.execute_reply": "2023-11-05T14:17:45.556201Z"
    },
    "papermill": {
     "duration": 0.497317,
     "end_time": "2023-11-05T14:17:45.560023",
     "exception": false,
     "start_time": "2023-11-05T14:17:45.062706",
     "status": "completed"
    },
    "tags": []
   },
   "outputs": [],
   "source": [
    "class PrintValTrainRatioCallback(keras.callbacks.Callback):\n",
    "    def on_epoch_end(self, epoch, logs):\n",
    "        print(\"\\nval/train: {:.2f}\".format(logs[\"val_loss\"] / logs[\"loss\"]))"
   ]
  },
  {
   "cell_type": "markdown",
   "id": "42b49801",
   "metadata": {
    "papermill": {
     "duration": 0.481303,
     "end_time": "2023-11-05T14:17:46.589352",
     "exception": false,
     "start_time": "2023-11-05T14:17:46.108049",
     "status": "completed"
    },
    "tags": []
   },
   "source": [
    "# Using TensorBoard for Visualization"
   ]
  },
  {
   "cell_type": "code",
   "execution_count": 38,
   "id": "3d6353ed",
   "metadata": {
    "execution": {
     "iopub.execute_input": "2023-11-05T14:17:47.579974Z",
     "iopub.status.busy": "2023-11-05T14:17:47.579527Z",
     "iopub.status.idle": "2023-11-05T14:17:47.586040Z",
     "shell.execute_reply": "2023-11-05T14:17:47.584731Z"
    },
    "papermill": {
     "duration": 0.498689,
     "end_time": "2023-11-05T14:17:47.588820",
     "exception": false,
     "start_time": "2023-11-05T14:17:47.090131",
     "status": "completed"
    },
    "tags": []
   },
   "outputs": [],
   "source": [
    "import os\n",
    "root_logdir = os.path.join(os.curdir, \"my_logs\")\n",
    "\n",
    "def get_run_logdir():\n",
    "    import time\n",
    "    run_id = time.strftime(\"run_%Y_%m_%d-%H_%M_%S\")\n",
    "    return os.path.join(root_logdir, run_id)\n",
    "\n",
    "run_logdir = get_run_logdir() # e.g., './my_logs/run_2019_06_07-15_15_22'"
   ]
  },
  {
   "cell_type": "code",
   "execution_count": 39,
   "id": "cb097710",
   "metadata": {
    "collapsed": true,
    "execution": {
     "iopub.execute_input": "2023-11-05T14:17:48.554003Z",
     "iopub.status.busy": "2023-11-05T14:17:48.553587Z",
     "iopub.status.idle": "2023-11-05T14:18:23.226462Z",
     "shell.execute_reply": "2023-11-05T14:18:23.224946Z"
    },
    "jupyter": {
     "outputs_hidden": true
    },
    "papermill": {
     "duration": 35.158932,
     "end_time": "2023-11-05T14:18:23.229347",
     "exception": false,
     "start_time": "2023-11-05T14:17:48.070415",
     "status": "completed"
    },
    "tags": []
   },
   "outputs": [
    {
     "name": "stdout",
     "output_type": "stream",
     "text": [
      "Epoch 1/30\n",
      "363/363 [==============================] - 1s 3ms/step - loss: nan - val_loss: nan\n",
      "Epoch 2/30\n",
      "363/363 [==============================] - 1s 2ms/step - loss: nan - val_loss: nan\n",
      "Epoch 3/30\n",
      "363/363 [==============================] - 1s 2ms/step - loss: nan - val_loss: nan\n",
      "Epoch 4/30\n",
      "363/363 [==============================] - 1s 3ms/step - loss: nan - val_loss: nan\n",
      "Epoch 5/30\n",
      "363/363 [==============================] - 1s 2ms/step - loss: nan - val_loss: nan\n",
      "Epoch 6/30\n",
      "363/363 [==============================] - 1s 2ms/step - loss: nan - val_loss: nan\n",
      "Epoch 7/30\n",
      "363/363 [==============================] - 1s 3ms/step - loss: nan - val_loss: nan\n",
      "Epoch 8/30\n",
      "363/363 [==============================] - 1s 3ms/step - loss: nan - val_loss: nan\n",
      "Epoch 9/30\n",
      "363/363 [==============================] - 1s 2ms/step - loss: nan - val_loss: nan\n",
      "Epoch 10/30\n",
      "363/363 [==============================] - 1s 2ms/step - loss: nan - val_loss: nan\n",
      "Epoch 11/30\n",
      "363/363 [==============================] - 1s 2ms/step - loss: nan - val_loss: nan\n",
      "Epoch 12/30\n",
      "363/363 [==============================] - 1s 2ms/step - loss: nan - val_loss: nan\n",
      "Epoch 13/30\n",
      "363/363 [==============================] - 1s 3ms/step - loss: nan - val_loss: nan\n",
      "Epoch 14/30\n",
      "363/363 [==============================] - 1s 2ms/step - loss: nan - val_loss: nan\n",
      "Epoch 15/30\n",
      "363/363 [==============================] - 1s 2ms/step - loss: nan - val_loss: nan\n",
      "Epoch 16/30\n",
      "363/363 [==============================] - 1s 2ms/step - loss: nan - val_loss: nan\n",
      "Epoch 17/30\n",
      "363/363 [==============================] - 1s 3ms/step - loss: nan - val_loss: nan\n",
      "Epoch 18/30\n",
      "363/363 [==============================] - 1s 3ms/step - loss: nan - val_loss: nan\n",
      "Epoch 19/30\n",
      "363/363 [==============================] - 1s 3ms/step - loss: nan - val_loss: nan\n",
      "Epoch 20/30\n",
      "363/363 [==============================] - 1s 2ms/step - loss: nan - val_loss: nan\n",
      "Epoch 21/30\n",
      "363/363 [==============================] - 1s 3ms/step - loss: nan - val_loss: nan\n",
      "Epoch 22/30\n",
      "363/363 [==============================] - 1s 2ms/step - loss: nan - val_loss: nan\n",
      "Epoch 23/30\n",
      "363/363 [==============================] - 1s 2ms/step - loss: nan - val_loss: nan\n",
      "Epoch 24/30\n",
      "363/363 [==============================] - 1s 3ms/step - loss: nan - val_loss: nan\n",
      "Epoch 25/30\n",
      "363/363 [==============================] - 1s 2ms/step - loss: nan - val_loss: nan\n",
      "Epoch 26/30\n",
      "363/363 [==============================] - 1s 2ms/step - loss: nan - val_loss: nan\n",
      "Epoch 27/30\n",
      "363/363 [==============================] - 1s 2ms/step - loss: nan - val_loss: nan\n",
      "Epoch 28/30\n",
      "363/363 [==============================] - 1s 3ms/step - loss: nan - val_loss: nan\n",
      "Epoch 29/30\n",
      "363/363 [==============================] - 1s 2ms/step - loss: nan - val_loss: nan\n",
      "Epoch 30/30\n",
      "363/363 [==============================] - 1s 2ms/step - loss: nan - val_loss: nan\n"
     ]
    }
   ],
   "source": [
    "tensorboard_cb = keras.callbacks.TensorBoard(run_logdir)\n",
    "history = model.fit(X_train, y_train, epochs=30,\n",
    "                    validation_data=(X_valid, y_valid),\n",
    "                    callbacks=[tensorboard_cb])"
   ]
  },
  {
   "cell_type": "code",
   "execution_count": 40,
   "id": "f7b221ca",
   "metadata": {
    "execution": {
     "iopub.execute_input": "2023-11-05T14:18:24.288050Z",
     "iopub.status.busy": "2023-11-05T14:18:24.287615Z",
     "iopub.status.idle": "2023-11-05T14:18:31.329159Z",
     "shell.execute_reply": "2023-11-05T14:18:31.327703Z"
    },
    "papermill": {
     "duration": 7.568808,
     "end_time": "2023-11-05T14:18:31.332003",
     "exception": false,
     "start_time": "2023-11-05T14:18:23.763195",
     "status": "completed"
    },
    "tags": []
   },
   "outputs": [
    {
     "data": {
      "text/html": [
       "\n",
       "      <iframe id=\"tensorboard-frame-effe1b283c5071a3\" width=\"100%\" height=\"800\" frameborder=\"0\">\n",
       "      </iframe>\n",
       "      <script>\n",
       "        (function() {\n",
       "          const frame = document.getElementById(\"tensorboard-frame-effe1b283c5071a3\");\n",
       "          const url = new URL(\"/\", window.location);\n",
       "          const port = 6066;\n",
       "          if (port) {\n",
       "            url.port = port;\n",
       "          }\n",
       "          frame.src = url;\n",
       "        })();\n",
       "      </script>\n",
       "    "
      ],
      "text/plain": [
       "<IPython.core.display.HTML object>"
      ]
     },
     "metadata": {},
     "output_type": "display_data"
    }
   ],
   "source": [
    "%reload_ext tensorboard\n",
    "%tensorboard --logdir=./my_logs --port=6066"
   ]
  },
  {
   "cell_type": "code",
   "execution_count": 41,
   "id": "0266af40",
   "metadata": {
    "execution": {
     "iopub.execute_input": "2023-11-05T14:18:32.481864Z",
     "iopub.status.busy": "2023-11-05T14:18:32.481412Z",
     "iopub.status.idle": "2023-11-05T14:18:54.172651Z",
     "shell.execute_reply": "2023-11-05T14:18:54.171553Z"
    },
    "papermill": {
     "duration": 22.302711,
     "end_time": "2023-11-05T14:18:54.175670",
     "exception": false,
     "start_time": "2023-11-05T14:18:31.872959",
     "status": "completed"
    },
    "tags": []
   },
   "outputs": [],
   "source": [
    "test_logdir = get_run_logdir()\n",
    "writer = tf.summary.create_file_writer(test_logdir)\n",
    "with writer.as_default():\n",
    "    for step in range(1, 1000 + 1):\n",
    "        tf.summary.scalar(\"my_scalar\", np.sin(step / 10), step=step)\n",
    "        data = (np.random.randn(100) + 2) * step / 100 # some random data\n",
    "        tf.summary.histogram(\"my_hist\", data, buckets=50, step=step)\n",
    "        images = np.random.rand(2, 32, 32, 3) # random 32×32 RGB images\n",
    "        tf.summary.image(\"my_images\", images * step / 1000, step=step)\n",
    "        texts = [\"The step is \" + str(step), \"Its square is \" + str(step**2)]\n",
    "        tf.summary.text(\"my_text\", texts, step=step)\n",
    "        sine_wave = tf.math.sin(tf.range(12000) / 48000 * 2 * np.pi * step)\n",
    "        audio = tf.reshape(tf.cast(sine_wave, tf.float32), [1, -1, 1])\n",
    "        tf.summary.audio(\"my_audio\", audio, sample_rate=48000, step=step)"
   ]
  },
  {
   "cell_type": "code",
   "execution_count": null,
   "id": "25951b37",
   "metadata": {
    "papermill": {
     "duration": 0.520157,
     "end_time": "2023-11-05T14:18:55.226924",
     "exception": false,
     "start_time": "2023-11-05T14:18:54.706767",
     "status": "completed"
    },
    "tags": []
   },
   "outputs": [],
   "source": []
  }
 ],
 "metadata": {
  "kernelspec": {
   "display_name": "Python 3",
   "language": "python",
   "name": "python3"
  },
  "language_info": {
   "codemirror_mode": {
    "name": "ipython",
    "version": 3
   },
   "file_extension": ".py",
   "mimetype": "text/x-python",
   "name": "python",
   "nbconvert_exporter": "python",
   "pygments_lexer": "ipython3",
   "version": "3.10.12"
  },
  "papermill": {
   "default_parameters": {},
   "duration": 410.147418,
   "end_time": "2023-11-05T14:18:58.383891",
   "environment_variables": {},
   "exception": null,
   "input_path": "__notebook__.ipynb",
   "output_path": "__notebook__.ipynb",
   "parameters": {},
   "start_time": "2023-11-05T14:12:08.236473",
   "version": "2.4.0"
  }
 },
 "nbformat": 4,
 "nbformat_minor": 5
}
